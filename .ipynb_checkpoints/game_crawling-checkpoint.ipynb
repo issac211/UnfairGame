{
 "cells": [
  {
   "cell_type": "code",
   "execution_count": 125,
   "id": "869ded69",
   "metadata": {},
   "outputs": [],
   "source": [
    "from bs4 import BeautifulSoup\n",
    "import requests\n",
    "import time\n",
    "import pandas as pd\n",
    "import csv"
   ]
  },
  {
   "cell_type": "code",
   "execution_count": 113,
   "id": "698051fd",
   "metadata": {},
   "outputs": [],
   "source": [
    "URL = \"https://www.metacritic.com\"\n",
    "HEADERS = {'User-Agent': 'Mozilla/5.0 (iPad; CPU OS 12_2 like Mac OS X) AppleWebKit/605.1.15 (KHTML, like Gecko) Mobile/15E148'}\n",
    "HEADERS_MOBILE = { 'User-Agent' : 'Mozilla/5.0 (iPhone; CPU iPhone OS 9_1 like Mac OS X) AppleWebKit/601.1.46 (KHTML, like Gecko) Version/9.0 Mobile/13B137 Safari/601.1'}"
   ]
  },
  {
   "cell_type": "code",
   "execution_count": 111,
   "id": "b6ca5018",
   "metadata": {},
   "outputs": [
    {
     "data": {
      "text/plain": [
       "200"
      ]
     },
     "execution_count": 111,
     "metadata": {},
     "output_type": "execute_result"
    }
   ],
   "source": [
    "result.status_code"
   ]
  },
  {
   "cell_type": "code",
   "execution_count": 121,
   "id": "aed9826a",
   "metadata": {},
   "outputs": [],
   "source": [
    "def data_init():\n",
    "    \n",
    "    data = {\n",
    "        'game_name': [],\n",
    "        'platform': [],\n",
    "        'publisher': [],\n",
    "        'release_date': [],\n",
    "        'meta_scroe': [],\n",
    "        'user_score': [],\n",
    "        'develeoper': [],\n",
    "        'geners': [],\n",
    "        'num_of_players': [],\n",
    "        'rating': [],\n",
    "        'user_positive_review': [],\n",
    "        'user_negative_review': [],\n",
    "        'user_mixed_review': [],\n",
    "        'critic_positive_review': [],\n",
    "        'critic_negative_review': [],\n",
    "        'critic_mixed_review': [],\n",
    "    }\n",
    "        \n",
    "    return data"
   ]
  },
  {
   "cell_type": "code",
   "execution_count": 122,
   "id": "247678ac",
   "metadata": {},
   "outputs": [],
   "source": [
    "def make_csv_file_from_data(data, name):\n",
    "    df = pd.DataFrame(data=data)\n",
    "    df.to_csv(f'games_data/{name}.csv')"
   ]
  },
  {
   "cell_type": "code",
   "execution_count": 172,
   "id": "f0f3daa4",
   "metadata": {},
   "outputs": [],
   "source": [
    "def get_games_data(href_csv_file, save_name):\n",
    "\n",
    "    with open(href_csv_file, 'r') as csv_file:\n",
    "        hrefs = list(csv.reader(csv_file))\n",
    "\n",
    "    games_attributes = data_init()\n",
    "    for href in hrefs[11:]:\n",
    "        print(f\"Stoped at: {href[0]}\")\n",
    "        url = URL + href[1]\n",
    "        result = requests.get(url, headers=HEADERS)\n",
    "        mobile_result = requests.get(url, headers=HEADERS_MOBILE)\n",
    "        \n",
    "        if(result.status_code != 200 or mobile_result.status_code != 200):\n",
    "            print(f\"Status code: {result.status_code}\")\n",
    "            print(f\"Status code mobile: {mobile_result.status_code}\")\n",
    "            print(f\"Stoped at: {href[0]}\")\n",
    "            break\n",
    "        \n",
    "        mobile_soup = BeautifulSoup(mobile_result.content, \"html.parser\")\n",
    "        soup = BeautifulSoup(result.content, \"html.parser\")\n",
    "        \n",
    "        games_attributes['game_name'].append(soup.find(\"div\", class_=\"product_title\").h1.text.strip())\n",
    "        games_attributes['platform'].append(soup.find(\"div\", class_=\"product_title\").span.text.strip())\n",
    "        games_attributes['publisher'].append(soup.find(\"div\", class_=\"product_data\").a.text.strip())\n",
    "        games_attributes['release_date'].append(soup.find(\"div\", class_=\"product_data\").find_all(\"span\", class_=\"data\")[1].text.strip())\n",
    "        games_attributes['meta_scroe'].append(soup.find(\"span\", itemprop=\"ratingValue\").text.strip())\n",
    "        games_attributes['user_score'].append(soup.find(\"div\", class_=\"userscore_wrap\").find(class_=\"metascore_w\").text.strip())\n",
    "        games_attributes['develeoper'].append(soup.find(\"li\", class_=\"summary_detail developer\").a.text.strip())\n",
    "        \n",
    "        num_of_players = games_attributes['num_of_players'].append(soup.find(\"li\", class_=\"summary_detail product_players\"))\n",
    "        if(num_of_players):\n",
    "            games_attributes['num_of_players'].append(num_of_players.find(class_=\"data\").text.strip())\n",
    "        else:\n",
    "            games_attributes['num_of_players'].append(\"NaN\")\n",
    "        \n",
    "        games_attributes['rating'].append(soup.find(\"li\", class_=\"summary_detail product_rating\").find(class_= \"data\").text.strip())\n",
    "\n",
    "        genres_soup = soup.find(\"li\", class_=\"summary_detail product_genre\").find_all(\"span\")\n",
    "        genres_per_game = []\n",
    "        for genre in genres_soup[1:]:\n",
    "            genres_per_game.append(genre.text.strip())\n",
    "        genres_string = \", \".join(genres_per_game)\n",
    "        games_attributes['geners'].append(genres_string)\n",
    "\n",
    "\n",
    "        # ***** User review Distributations **** #\n",
    "        user_distributions = mobile_soup.find_all(\"div\", class_= \"distributions\")[1].find_all(class_=\"number\")\n",
    "        games_attributes['user_positive_review'].append(user_distributions[0].text.split()[0])\n",
    "        games_attributes['user_negative_review'].append(user_distributions[2].text.split()[0])\n",
    "        games_attributes['user_mixed_review'].append(user_distributions[1].text.split()[0])\n",
    "\n",
    "        # ***** critic review Distributations **** #\n",
    "        critic_distributions = mobile_soup.find_all(\"div\", class_= \"distributions\")[0].find_all(class_=\"number\")\n",
    "        games_attributes['critic_positive_review'].append(critic_distributions[0].text.split()[0])\n",
    "        games_attributes['critic_negative_review'].append(critic_distributions[2].text.split()[0])\n",
    "        games_attributes['critic_mixed_review'].append(critic_distributions[1].text.split()[0])\n",
    "        \n",
    "        num_of_games = int(href[0])\n",
    "        if((num_of_games % 100 == 0) and (num_of_games != 0)):\n",
    "            make_csv_file_from_data(games_attributes, save_name)\n",
    "            print(\"saved\")\n",
    "\n",
    "    make_csv_file_from_data(games_attributes, save_name)\n",
    "    print(\"fin\")\n"
   ]
  },
  {
   "cell_type": "code",
   "execution_count": 173,
   "id": "94b64a76",
   "metadata": {
    "scrolled": false
   },
   "outputs": [
    {
     "name": "stdout",
     "output_type": "stream",
     "text": [
      "Stoped at: 10\n",
      "Stoped at: 11\n",
      "Stoped at: 12\n",
      "Stoped at: 13\n",
      "Stoped at: 14\n",
      "Stoped at: 15\n",
      "Stoped at: 16\n",
      "Stoped at: 17\n",
      "Stoped at: 18\n",
      "Stoped at: 19\n",
      "Stoped at: 20\n",
      "Stoped at: 21\n",
      "Stoped at: 22\n",
      "Stoped at: 23\n",
      "Stoped at: 24\n",
      "Stoped at: 25\n",
      "Stoped at: 26\n",
      "Stoped at: 27\n",
      "Stoped at: 28\n",
      "Stoped at: 29\n",
      "Stoped at: 30\n",
      "Stoped at: 31\n",
      "Stoped at: 32\n",
      "Stoped at: 33\n"
     ]
    },
    {
     "ename": "AttributeError",
     "evalue": "'NoneType' object has no attribute 'find'",
     "output_type": "error",
     "traceback": [
      "\u001b[1;31m---------------------------------------------------------------------------\u001b[0m",
      "\u001b[1;31mAttributeError\u001b[0m                            Traceback (most recent call last)",
      "\u001b[1;32m~\\AppData\\Local\\Temp\\ipykernel_14224\\3968338450.py\u001b[0m in \u001b[0;36m<module>\u001b[1;34m\u001b[0m\n\u001b[1;32m----> 1\u001b[1;33m \u001b[0mget_games_data\u001b[0m\u001b[1;33m(\u001b[0m\u001b[1;34m'hrefs_csv/good_games.csv'\u001b[0m\u001b[1;33m,\u001b[0m \u001b[1;34m'top_rated_games'\u001b[0m\u001b[1;33m)\u001b[0m\u001b[1;33m\u001b[0m\u001b[1;33m\u001b[0m\u001b[0m\n\u001b[0m",
      "\u001b[1;32m~\\AppData\\Local\\Temp\\ipykernel_14224\\650934172.py\u001b[0m in \u001b[0;36mget_games_data\u001b[1;34m(href_csv_file, save_name)\u001b[0m\n\u001b[0;32m     35\u001b[0m             \u001b[0mgames_attributes\u001b[0m\u001b[1;33m[\u001b[0m\u001b[1;34m'num_of_players'\u001b[0m\u001b[1;33m]\u001b[0m\u001b[1;33m.\u001b[0m\u001b[0mappend\u001b[0m\u001b[1;33m(\u001b[0m\u001b[1;34m\"NaN\"\u001b[0m\u001b[1;33m)\u001b[0m\u001b[1;33m\u001b[0m\u001b[1;33m\u001b[0m\u001b[0m\n\u001b[0;32m     36\u001b[0m \u001b[1;33m\u001b[0m\u001b[0m\n\u001b[1;32m---> 37\u001b[1;33m         \u001b[0mgames_attributes\u001b[0m\u001b[1;33m[\u001b[0m\u001b[1;34m'rating'\u001b[0m\u001b[1;33m]\u001b[0m\u001b[1;33m.\u001b[0m\u001b[0mappend\u001b[0m\u001b[1;33m(\u001b[0m\u001b[0msoup\u001b[0m\u001b[1;33m.\u001b[0m\u001b[0mfind\u001b[0m\u001b[1;33m(\u001b[0m\u001b[1;34m\"li\"\u001b[0m\u001b[1;33m,\u001b[0m \u001b[0mclass_\u001b[0m\u001b[1;33m=\u001b[0m\u001b[1;34m\"summary_detail product_rating\"\u001b[0m\u001b[1;33m)\u001b[0m\u001b[1;33m.\u001b[0m\u001b[0mfind\u001b[0m\u001b[1;33m(\u001b[0m\u001b[0mclass_\u001b[0m\u001b[1;33m=\u001b[0m \u001b[1;34m\"data\"\u001b[0m\u001b[1;33m)\u001b[0m\u001b[1;33m.\u001b[0m\u001b[0mtext\u001b[0m\u001b[1;33m.\u001b[0m\u001b[0mstrip\u001b[0m\u001b[1;33m(\u001b[0m\u001b[1;33m)\u001b[0m\u001b[1;33m)\u001b[0m\u001b[1;33m\u001b[0m\u001b[1;33m\u001b[0m\u001b[0m\n\u001b[0m\u001b[0;32m     38\u001b[0m \u001b[1;33m\u001b[0m\u001b[0m\n\u001b[0;32m     39\u001b[0m         \u001b[0mgenres_soup\u001b[0m \u001b[1;33m=\u001b[0m \u001b[0msoup\u001b[0m\u001b[1;33m.\u001b[0m\u001b[0mfind\u001b[0m\u001b[1;33m(\u001b[0m\u001b[1;34m\"li\"\u001b[0m\u001b[1;33m,\u001b[0m \u001b[0mclass_\u001b[0m\u001b[1;33m=\u001b[0m\u001b[1;34m\"summary_detail product_genre\"\u001b[0m\u001b[1;33m)\u001b[0m\u001b[1;33m.\u001b[0m\u001b[0mfind_all\u001b[0m\u001b[1;33m(\u001b[0m\u001b[1;34m\"span\"\u001b[0m\u001b[1;33m)\u001b[0m\u001b[1;33m\u001b[0m\u001b[1;33m\u001b[0m\u001b[0m\n",
      "\u001b[1;31mAttributeError\u001b[0m: 'NoneType' object has no attribute 'find'"
     ]
    }
   ],
   "source": [
    "get_games_data('hrefs_csv/good_games.csv', 'top_rated_games')"
   ]
  },
  {
   "cell_type": "code",
   "execution_count": 163,
   "id": "15755928",
   "metadata": {},
   "outputs": [
    {
     "data": {
      "text/plain": [
       "'9.1'"
      ]
     },
     "execution_count": 163,
     "metadata": {},
     "output_type": "execute_result"
    }
   ],
   "source": [
    "result = requests.get('https://www.metacritic.com/game/nintendo-64/the-legend-of-zelda-ocarina-of-time', headers=HEADERS)\n",
    "soup = BeautifulSoup(result.content, \"html.parser\")\n",
    "soup.find(\"div\", class_=\"userscore_wrap\").find(class_=\"metascore_w\").text.strip()"
   ]
  },
  {
   "cell_type": "code",
   "execution_count": 12,
   "id": "93c9b751",
   "metadata": {},
   "outputs": [
    {
     "name": "stdout",
     "output_type": "stream",
     "text": [
      "6,646\n",
      "265\n",
      "517\n"
     ]
    }
   ],
   "source": [
    "result = requests.get(url, headers=HEADERS)\n",
    "mobile_result = requests.get(url, headers=HEADERS_MOBILE)\n",
    "mobile_soup = BeautifulSoup(mobile_result.content, \"html.parser\")\n",
    "distributions = mobile_soup.find_all(\"div\", class_= \"distributions\")[1].find_all(class_=\"number\")\n",
    "positive = distributions[0].text.split()[0]\n",
    "Mixed = distributions[1].text.split()[0]\n",
    "Negative = distributions[2].text.split()[0]\n",
    "\n",
    "print(positive)\n",
    "print(Mixed)\n",
    "print(Negative)\n",
    "\n",
    "#BeautifulSoup(result.content, \"html.parser\")\n"
   ]
  },
  {
   "cell_type": "code",
   "execution_count": null,
   "id": "1bcf3580",
   "metadata": {},
   "outputs": [],
   "source": [
    "game_name = [] # soup.find(\"div\", class_=\"product_title\").h1.text.strip()\n",
    "platform = [] # soup.find(\"div\", class_=\"product_title\").span.text.strip()\n",
    "publisher = [] # soup.find(\"div\", class_=\"product_data\").a.text.strip()\n",
    "release_date = [] # soup.find(\"div\", class_=\"product_data\").find_all(\"span\", class_=\"data\")[1].text.strip()\n",
    "meta_scroe = [] # soup.find(\"span\", itemprop=\"ratingValue\").text.strip()\n",
    "user_core = []# soup.find(\"div\", class_=\"metascore_w user large game positive\").text.strip()\n",
    "develeoper = [] # soup.find(\"li\", class_=\"summary_detail developer\").a.text.strip()\n",
    "geners = []\n",
    "# genres_soup = soup.find(\"li\", class_=\"summary_detail product_genre\").find_all(\"span\")\n",
    "# genres_per_game = []\n",
    "# for genre in genres_soup[1:]:\n",
    "#     genres_per_game.append(genre.text.strip())\n",
    "\n",
    "num_of_players =[] # soup.find(\"li\", class_=\"summary_detail product_players\").find(class_=\"data\").text.strip()\n",
    "rating = [] # soup.find(\"li\", class_=\"summary_detail product_rating\").find(class_= \"data\").text.split()\n",
    "\n",
    "# ***** User review Distributations **** #\n",
    "user_distributions = mobile_soup.find_all(\"div\", class_= \"distributions\")[1].find_all(class_=\"number\")\n",
    "user_positive_review [] # user_distributions[0].text.split()[0]\n",
    "user_negative_review = [] # user_distributions[2].text.split()[0]\n",
    "user_mixed_review = [] #user_distributions[1].text.split()[0]\n",
    "\n",
    "# ***** critic review Distributations **** #\n",
    "critic_distributions = mobile_soup.find_all(\"div\", class_= \"distributions\")[0].find_all(class_=\"number\")\n",
    "critic_positive_review = [] # critic_distributions[0].text.split()[0]\n",
    "critic_negative_review = [] # critic_distributions[2].text.split()[0]\n",
    "critic_mixed_review = [] #critic_distributions[1].text.split()[0]"
   ]
  },
  {
   "cell_type": "code",
   "execution_count": null,
   "id": "50d85f57",
   "metadata": {},
   "outputs": [],
   "source": []
  }
 ],
 "metadata": {
  "kernelspec": {
   "display_name": "Python 3 (ipykernel)",
   "language": "python",
   "name": "python3"
  },
  "language_info": {
   "codemirror_mode": {
    "name": "ipython",
    "version": 3
   },
   "file_extension": ".py",
   "mimetype": "text/x-python",
   "name": "python",
   "nbconvert_exporter": "python",
   "pygments_lexer": "ipython3",
   "version": "3.9.13"
  }
 },
 "nbformat": 4,
 "nbformat_minor": 5
}
