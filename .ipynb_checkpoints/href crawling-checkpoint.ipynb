{
 "cells": [
  {
   "cell_type": "code",
   "execution_count": 1,
   "id": "00d1a4c2",
   "metadata": {},
   "outputs": [],
   "source": [
    "from bs4 import BeautifulSoup\n",
    "import requests\n",
    "import time\n",
    "import pandas as pd\n",
    "\n",
    "# The solution to this problem is to configure your scraper\n",
    "# to send a fake user-agent with every request\n",
    "HEADERS = {'User-Agent': 'Mozilla/5.0 (iPad; CPU OS 12_2 like Mac OS X) AppleWebKit/605.1.15 (KHTML, like Gecko) Mobile/15E148'}"
   ]
  },
  {
   "cell_type": "code",
   "execution_count": 2,
   "id": "f306a302",
   "metadata": {},
   "outputs": [],
   "source": [
    "# הכתובת של האתר שלנו\n",
    "URL=\"https://www.metacritic.com/browse/games/score/metascore/all/all/filtered\""
   ]
  },
  {
   "cell_type": "code",
   "execution_count": 3,
   "id": "5e87dd6d",
   "metadata": {},
   "outputs": [],
   "source": [
    "# פונקציה ללקיחת כתובת האתר"
   ]
  },
  {
   "cell_type": "code",
   "execution_count": 4,
   "id": "fd3aad92",
   "metadata": {},
   "outputs": [],
   "source": [
    "def get_hrefs_list(url):\n",
    "\n",
    "    result = requests.get(url, headers=HEADERS)\n",
    "    print(result)\n",
    "    soup = BeautifulSoup(result.content, \"html.parser\")\n",
    "\n",
    "    list_wrapper = soup.find_all(\"div\", class_=\"browse_list_wrapper\")\n",
    "\n",
    "    linksList = []\n",
    "    for wrapper in list_wrapper:\n",
    "        for link in wrapper.find_all(\"a\", href = True, class_=\"title\"):\n",
    "            linksList.append(link['href'])\n",
    "    \n",
    "    return linksList"
   ]
  },
  {
   "cell_type": "code",
   "execution_count": 5,
   "id": "fafb9266",
   "metadata": {},
   "outputs": [],
   "source": [
    "#בדיקה של הפונקציה"
   ]
  },
  {
   "cell_type": "code",
   "execution_count": null,
   "id": "4c334a99",
   "metadata": {},
   "outputs": [],
   "source": []
  },
  {
   "cell_type": "code",
   "execution_count": null,
   "id": "34521c77",
   "metadata": {},
   "outputs": [],
   "source": []
  },
  {
   "cell_type": "code",
   "execution_count": 6,
   "id": "5638d83d",
   "metadata": {},
   "outputs": [],
   "source": [
    "# כתובת האתר בכל עמוד תראה כך:\n",
    "# \"{url}?page={page}\"\n",
    "# הפונקציה תחזיר רשימה של כל הכתובות בטווח עמודים שנותנים"
   ]
  },
  {
   "cell_type": "code",
   "execution_count": 7,
   "id": "906d3469",
   "metadata": {},
   "outputs": [],
   "source": [
    "def get_hrefs_list_fromPage_toPage(url, begin = 0, end = 0):\n",
    "\n",
    "    href_list = []\n",
    "    for page in range(begin, end + 1):\n",
    "\n",
    "        print(f\"page:{page}\")\n",
    "        if(page != 0):\n",
    "            new_url = f\"{url}?page={page}\"\n",
    "        else:\n",
    "            new_url = url\n",
    "            \n",
    "        href_list.extend(get_hrefs_list(new_url))\n",
    "    return href_list"
   ]
  },
  {
   "cell_type": "code",
   "execution_count": null,
   "id": "c2156cdd",
   "metadata": {},
   "outputs": [],
   "source": []
  },
  {
   "cell_type": "code",
   "execution_count": null,
   "id": "177c64a4",
   "metadata": {},
   "outputs": [],
   "source": []
  },
  {
   "cell_type": "markdown",
   "id": "a3522e28",
   "metadata": {},
   "source": [
    "good games"
   ]
  },
  {
   "cell_type": "code",
   "execution_count": 8,
   "id": "fb379fc3",
   "metadata": {},
   "outputs": [
    {
     "name": "stdout",
     "output_type": "stream",
     "text": [
      "page:0\n",
      "<Response [200]>\n"
     ]
    },
    {
     "data": {
      "text/plain": [
       "100"
      ]
     },
     "execution_count": 8,
     "metadata": {},
     "output_type": "execute_result"
    }
   ],
   "source": [
    "href_list = get_hrefs_list_fromPage_toPage(URL, 0, 39)\n",
    "len(href_list)"
   ]
  },
  {
   "cell_type": "code",
   "execution_count": 9,
   "id": "a5ff9377",
   "metadata": {},
   "outputs": [],
   "source": [
    "links_dict = {'links': href_list}\n",
    "links_df = pd.DataFrame(data=links_dict)\n",
    "links_df.to_csv('hrefPages_0_39/good_games.csv')"
   ]
  },
  {
   "cell_type": "code",
   "execution_count": null,
   "id": "735003fd",
   "metadata": {},
   "outputs": [],
   "source": []
  },
  {
   "cell_type": "code",
   "execution_count": 10,
   "id": "9fa8e17a",
   "metadata": {},
   "outputs": [
    {
     "name": "stdout",
     "output_type": "stream",
     "text": [
      "page:159\n",
      "<Response [200]>\n"
     ]
    },
    {
     "data": {
      "text/plain": [
       "100"
      ]
     },
     "execution_count": 10,
     "metadata": {},
     "output_type": "execute_result"
    }
   ],
   "source": [
    "href_list2 = get_hrefs_list_fromPage_toPage(URL, 159, 199)\n",
    "len(href_list2)"
   ]
  },
  {
   "cell_type": "code",
   "execution_count": 11,
   "id": "ccc54fe5",
   "metadata": {},
   "outputs": [],
   "source": [
    "# כדי שיהיו 4000 משחקים טובים ו 4000 משחקים רעים\n",
    "# הורדנו את ה- 44 כתובות הראשונות מהרשימה"
   ]
  },
  {
   "cell_type": "code",
   "execution_count": 12,
   "id": "f018c0b4",
   "metadata": {},
   "outputs": [],
   "source": [
    "len(href_list2[44:])\n",
    "href_list2 = href_list2[44:]"
   ]
  },
  {
   "cell_type": "code",
   "execution_count": 13,
   "id": "989d9237",
   "metadata": {},
   "outputs": [
    {
     "data": {
      "text/plain": [
       "56"
      ]
     },
     "execution_count": 13,
     "metadata": {},
     "output_type": "execute_result"
    }
   ],
   "source": [
    "len(href_list2)"
   ]
  },
  {
   "cell_type": "code",
   "execution_count": 14,
   "id": "6865a90c",
   "metadata": {},
   "outputs": [],
   "source": [
    "links_dict = {'links': href_list2}\n",
    "links_df = pd.DataFrame(data=links_dict)\n",
    "links_df.to_csv('hrefPages_159_199/bad_games.csv')"
   ]
  }
 ],
 "metadata": {
  "kernelspec": {
   "display_name": "Python 3 (ipykernel)",
   "language": "python",
   "name": "python3"
  },
  "language_info": {
   "codemirror_mode": {
    "name": "ipython",
    "version": 3
   },
   "file_extension": ".py",
   "mimetype": "text/x-python",
   "name": "python",
   "nbconvert_exporter": "python",
   "pygments_lexer": "ipython3",
   "version": "3.9.13"
  }
 },
 "nbformat": 4,
 "nbformat_minor": 5
}
