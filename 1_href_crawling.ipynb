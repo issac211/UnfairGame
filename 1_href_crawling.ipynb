{
 "cells": [
  {
   "cell_type": "code",
   "execution_count": 24,
   "id": "00d1a4c2",
   "metadata": {},
   "outputs": [],
   "source": [
    "from bs4 import BeautifulSoup\n",
    "import requests\n",
    "import time\n",
    "import pandas as pd"
   ]
  },
  {
   "cell_type": "code",
   "execution_count": 25,
   "id": "f306a302",
   "metadata": {},
   "outputs": [],
   "source": [
    "# Our base url\n",
    "URL=\"https://www.metacritic.com/browse/games/score/metascore/all/all/filtered\"\n",
    "# Solution for getting 403 forbidden response - send a fake user-agent with every request\n",
    "HEADERS = {'User-Agent': 'Mozilla/5.0 (iPad; CPU OS 12_2 like Mac OS X) AppleWebKit/605.1.15 (KHTML, like Gecko) Mobile/15E148'}"
   ]
  },
  {
   "cell_type": "markdown",
   "id": "c8f0b187",
   "metadata": {},
   "source": [
    "--------------\n",
    "## Problems that were discovered later on:\n",
    "we had to come back here to take care of them\n",
    "\n",
    "### <font color='red'>Problem1:</font> [Incomplete data](#Incomplete_Data)\n",
    "\n",
    "--------------"
   ]
  },
  {
   "cell_type": "markdown",
   "id": "0a739816",
   "metadata": {},
   "source": [
    "### Scraping all href links in 1 page"
   ]
  },
  {
   "cell_type": "code",
   "execution_count": 26,
   "id": "fd3aad92",
   "metadata": {},
   "outputs": [],
   "source": [
    "def get_hrefs_list(url):\n",
    "\n",
    "    result = requests.get(url, headers=HEADERS)\n",
    "    soup = BeautifulSoup(result.content, \"html.parser\")\n",
    "\n",
    "    list_wrapper = soup.find_all(\"div\", class_=\"browse_list_wrapper\")\n",
    "\n",
    "    links_list = []\n",
    "    for wrapper in list_wrapper:\n",
    "        for link in wrapper.find_all(\"a\", href = True, class_=\"title\"):\n",
    "            links_list.append(link['href'])\n",
    "    \n",
    "    return links_list"
   ]
  },
  {
   "cell_type": "markdown",
   "id": "93b3da72",
   "metadata": {},
   "source": [
    "### This function is for getting an href links from a given pages range\n",
    "Every url for each page is in the same structure: 'BASE URL?#num of page'"
   ]
  },
  {
   "cell_type": "code",
   "execution_count": 27,
   "id": "906d3469",
   "metadata": {},
   "outputs": [],
   "source": [
    "def get_hrefs_list_fromPage_toPage(url, begin = 0, end = 0):\n",
    "    href_list = []\n",
    "    for page in range(begin, end + 1):\n",
    "        if(page != 0):\n",
    "            new_url = f\"{url}?page={page}\"\n",
    "        else:\n",
    "            new_url = url\n",
    "        \n",
    "        href_list.extend(get_hrefs_list(new_url))\n",
    "    return href_list"
   ]
  },
  {
   "cell_type": "markdown",
   "id": "187970fc",
   "metadata": {},
   "source": [
    "## Start cralwer for the 4000 best games all time"
   ]
  },
  {
   "cell_type": "code",
   "execution_count": 5,
   "id": "fb379fc3",
   "metadata": {},
   "outputs": [],
   "source": [
    "best_games_href_list = get_hrefs_list_fromPage_toPage(URL, 0, 39)"
   ]
  },
  {
   "cell_type": "code",
   "execution_count": 6,
   "id": "32a6b03d",
   "metadata": {},
   "outputs": [
    {
     "data": {
      "text/plain": [
       "4000"
      ]
     },
     "execution_count": 6,
     "metadata": {},
     "output_type": "execute_result"
    }
   ],
   "source": [
    "len(best_games_href_list)"
   ]
  },
  {
   "cell_type": "markdown",
   "id": "0ac2f4c4",
   "metadata": {},
   "source": [
    "## Converting the list to dataframe and saving in a csv file"
   ]
  },
  {
   "cell_type": "code",
   "execution_count": 7,
   "id": "a5ff9377",
   "metadata": {},
   "outputs": [],
   "source": [
    "links_dict = {'links': best_games_href_list}\n",
    "links_df = pd.DataFrame(data=links_dict)\n",
    "links_df.to_csv('hrefs_csv/good_games.csv')"
   ]
  },
  {
   "cell_type": "markdown",
   "id": "bcffabdc",
   "metadata": {},
   "source": [
    "## Start cralwer for the 4000 worst games all time"
   ]
  },
  {
   "cell_type": "code",
   "execution_count": 8,
   "id": "9fa8e17a",
   "metadata": {},
   "outputs": [],
   "source": [
    "worst_games_href_list = get_hrefs_list_fromPage_toPage(URL, 159, 199)"
   ]
  },
  {
   "cell_type": "markdown",
   "id": "02a2828e",
   "metadata": {},
   "source": [
    "For balance we had to remove 45 first games(from the worst games section) in order to get 4000 games exactly"
   ]
  },
  {
   "cell_type": "code",
   "execution_count": 9,
   "id": "f018c0b4",
   "metadata": {},
   "outputs": [],
   "source": [
    "worst_games_href_list = worst_games_href_list[45:]"
   ]
  },
  {
   "cell_type": "markdown",
   "id": "fbc31573",
   "metadata": {},
   "source": [
    "## Converting the list to dataframe and saving in a csv file"
   ]
  },
  {
   "cell_type": "code",
   "execution_count": 10,
   "id": "6865a90c",
   "metadata": {},
   "outputs": [],
   "source": [
    "links_dict = {'links': worst_games_href_list}\n",
    "links_df = pd.DataFrame(data=links_dict)\n",
    "links_df.to_csv('hrefs_csv/bad_games.csv')"
   ]
  },
  {
   "cell_type": "markdown",
   "id": "471a5d11",
   "metadata": {},
   "source": [
    "-------------------"
   ]
  },
  {
   "cell_type": "markdown",
   "id": "c5ec0278",
   "metadata": {},
   "source": [
    "-------------------\n",
    "<a id='Incomplete_Data'></a>\n",
    "### <font color='red'>Problem1:</font>\n",
    "## At the EDA stage we discovered that the data collection was not carried out properly:\n",
    "see: [4_EDA](./4_EDA.ipynb)"
   ]
  },
  {
   "cell_type": "markdown",
   "id": "fa7ffa33",
   "metadata": {},
   "source": [
    "So we saw that we were missing in 'meta_scroe'\n",
    "\n",
    "the rating between 62 to 80\n",
    "\n",
    "We checked the website and saw that the most suitable pages are between: 50 to 155"
   ]
  },
  {
   "cell_type": "markdown",
   "id": "f83cb033",
   "metadata": {},
   "source": [
    "### Start cralwer for the mid games"
   ]
  },
  {
   "cell_type": "markdown",
   "id": "eaab2cd9",
   "metadata": {},
   "source": [
    "We will split all the pages into groups of 10 pages To reduce the amount of data\n",
    "\n",
    "We checked in advance that the pages cover the range of numbers in the rating (between 62 to 80)"
   ]
  },
  {
   "cell_type": "code",
   "execution_count": 28,
   "id": "f793af4a",
   "metadata": {
    "scrolled": true
   },
   "outputs": [],
   "source": [
    "mid_games_href_list = []\n",
    "mid_games_href_list.extend(get_hrefs_list_fromPage_toPage(URL, 50, 60))\n",
    "for start_page in range(65, 135, 20):\n",
    "    end_page = start_page + 10\n",
    "    mid_games_href_list.extend(get_hrefs_list_fromPage_toPage(URL, start_page, end_page))\n",
    "mid_games_href_list.extend(get_hrefs_list_fromPage_toPage(URL, 140, 155))"
   ]
  },
  {
   "cell_type": "code",
   "execution_count": 33,
   "id": "3f140888",
   "metadata": {},
   "outputs": [
    {
     "data": {
      "text/plain": [
       "7100"
      ]
     },
     "execution_count": 33,
     "metadata": {},
     "output_type": "execute_result"
    }
   ],
   "source": [
    "len(mid_games_href_list)"
   ]
  },
  {
   "cell_type": "markdown",
   "id": "337ff309",
   "metadata": {},
   "source": [
    "## Converting the list to dataframe and saving in a csv file"
   ]
  },
  {
   "cell_type": "code",
   "execution_count": 31,
   "id": "33f00bd0",
   "metadata": {},
   "outputs": [],
   "source": [
    "links_dict = {'links': mid_games_href_list}\n",
    "links_df = pd.DataFrame(data=links_dict)\n",
    "links_df.to_csv('hrefs_csv/mid_games.csv')"
   ]
  },
  {
   "cell_type": "markdown",
   "id": "0cc43ecd",
   "metadata": {},
   "source": [
    "### We will continue the problem handling in the 'game_crawling' file:\n",
    "\n",
    "see: [game_crawling](./2_game_crawling.ipynb) => <font color='red'>'Problem1: Incomplete data'</font>"
   ]
  },
  {
   "cell_type": "markdown",
   "id": "a9aeef16",
   "metadata": {},
   "source": [
    "-------------------"
   ]
  }
 ],
 "metadata": {
  "kernelspec": {
   "display_name": "Python 3 (ipykernel)",
   "language": "python",
   "name": "python3"
  },
  "language_info": {
   "codemirror_mode": {
    "name": "ipython",
    "version": 3
   },
   "file_extension": ".py",
   "mimetype": "text/x-python",
   "name": "python",
   "nbconvert_exporter": "python",
   "pygments_lexer": "ipython3",
   "version": "3.9.13"
  }
 },
 "nbformat": 4,
 "nbformat_minor": 5
}
