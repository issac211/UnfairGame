{
 "cells": [
  {
   "cell_type": "code",
   "execution_count": 11,
   "id": "dba93fed",
   "metadata": {},
   "outputs": [],
   "source": [
    "import pandas as pd\n",
    "import numpy as np\n",
    "import re\n",
    "\n",
    "from sklearn import preprocessing\n",
    "from sklearn.preprocessing import LabelEncoder\n",
    "import matplotlib.pyplot as plt\n",
    "import seaborn as sns\n",
    "%matplotlib inline"
   ]
  },
  {
   "cell_type": "markdown",
   "id": "0ebb906b",
   "metadata": {},
   "source": [
    "--------------\n",
    "## Problems that were discovered later on:\n",
    "we had to come back here to take care of them\n",
    "\n",
    "### <font color='red'>Problem1:</font> Incomplete data\n",
    "see: [4_EDA](./4_EDA.ipynb)\n",
    "\n",
    "## At the EDA stage we discovered that the data collection was not carried out properly:\n",
    "\n",
    "\n",
    "in the 'game_crawling' file we saved the missing games data to 'mid_rated_games.csv' file\n",
    "\n",
    "see: [game_crawling](./2_game_crawling.ipynb) => <font color='red'>'Problem1: Incomplete data'</font>"
   ]
  },
  {
   "cell_type": "markdown",
   "id": "dcad8a21",
   "metadata": {},
   "source": [
    "## Now we will add the file to the list of files to be handled"
   ]
  },
  {
   "cell_type": "code",
   "execution_count": 12,
   "id": "9bc209f5",
   "metadata": {},
   "outputs": [],
   "source": [
    "file_name3 = \"games_data/mid_rated_games.csv\""
   ]
  },
  {
   "cell_type": "markdown",
   "id": "9d2ec2ef",
   "metadata": {},
   "source": [
    "--------------"
   ]
  },
  {
   "cell_type": "markdown",
   "id": "084dbb78",
   "metadata": {},
   "source": [
    "### Combining the data files into one data frame"
   ]
  },
  {
   "cell_type": "code",
   "execution_count": 13,
   "id": "d1fea252",
   "metadata": {},
   "outputs": [],
   "source": [
    "file_name1 = \"games_data/lowest_rated_games.csv\"\n",
    "file_name2 = \"games_data/top_rated_games.csv\"\n",
    "## Added file - from problem1 ##\n",
    "file_name3 = \"games_data/mid_rated_games.csv\"\n",
    "df = pd.concat(\n",
    "    map(pd.read_csv, [file_name1, file_name2, file_name3]), ignore_index=True)"
   ]
  },
  {
   "cell_type": "markdown",
   "id": "cdd782fa",
   "metadata": {},
   "source": [
    "Deletion of the index column - \"Unnamed: 0\""
   ]
  },
  {
   "cell_type": "code",
   "execution_count": 14,
   "id": "36a394cb",
   "metadata": {},
   "outputs": [],
   "source": [
    "df.drop(\"Unnamed: 0\", axis=1, inplace=True)"
   ]
  },
  {
   "cell_type": "markdown",
   "id": "80fdf3c2",
   "metadata": {},
   "source": [
    "--------------\n",
    "Checking the data"
   ]
  },
  {
   "cell_type": "code",
   "execution_count": 15,
   "id": "b32ef12f",
   "metadata": {},
   "outputs": [
    {
     "data": {
      "text/html": [
       "<div>\n",
       "<style scoped>\n",
       "    .dataframe tbody tr th:only-of-type {\n",
       "        vertical-align: middle;\n",
       "    }\n",
       "\n",
       "    .dataframe tbody tr th {\n",
       "        vertical-align: top;\n",
       "    }\n",
       "\n",
       "    .dataframe thead th {\n",
       "        text-align: right;\n",
       "    }\n",
       "</style>\n",
       "<table border=\"1\" class=\"dataframe\">\n",
       "  <thead>\n",
       "    <tr style=\"text-align: right;\">\n",
       "      <th></th>\n",
       "      <th>game_name</th>\n",
       "      <th>platform</th>\n",
       "      <th>publisher</th>\n",
       "      <th>release_date</th>\n",
       "      <th>meta_scroe</th>\n",
       "      <th>user_score</th>\n",
       "      <th>develeoper</th>\n",
       "      <th>genres</th>\n",
       "      <th>num_of_players</th>\n",
       "      <th>rating</th>\n",
       "      <th>user_positive_review</th>\n",
       "      <th>user_negative_review</th>\n",
       "      <th>user_mixed_review</th>\n",
       "      <th>critic_positive_review</th>\n",
       "      <th>critic_negative_review</th>\n",
       "      <th>critic_mixed_review</th>\n",
       "    </tr>\n",
       "  </thead>\n",
       "  <tbody>\n",
       "    <tr>\n",
       "      <th>0</th>\n",
       "      <td>Tharsis</td>\n",
       "      <td>PC</td>\n",
       "      <td>Choice Provisions</td>\n",
       "      <td>Jan 11, 2016</td>\n",
       "      <td>61.0</td>\n",
       "      <td>4.8</td>\n",
       "      <td>Choice Provisions</td>\n",
       "      <td>Miscellaneous, Board / Card Game</td>\n",
       "      <td>No Online Multiplayer</td>\n",
       "      <td>M</td>\n",
       "      <td>19</td>\n",
       "      <td>27</td>\n",
       "      <td>11.0</td>\n",
       "      <td>3.0</td>\n",
       "      <td>3.0</td>\n",
       "      <td>17.0</td>\n",
       "    </tr>\n",
       "    <tr>\n",
       "      <th>1</th>\n",
       "      <td>WWI Tannenberg: Eastern Front</td>\n",
       "      <td>PlayStation 4</td>\n",
       "      <td>Blackmill Games</td>\n",
       "      <td>Jul 24, 2020</td>\n",
       "      <td>61.0</td>\n",
       "      <td>8.3</td>\n",
       "      <td>M2H</td>\n",
       "      <td>Action, Shooter, First-Person, Tactical</td>\n",
       "      <td>Up to 40</td>\n",
       "      <td>M</td>\n",
       "      <td>4</td>\n",
       "      <td>0</td>\n",
       "      <td>2.0</td>\n",
       "      <td>3.0</td>\n",
       "      <td>1.0</td>\n",
       "      <td>6.0</td>\n",
       "    </tr>\n",
       "    <tr>\n",
       "      <th>2</th>\n",
       "      <td>Dungeons 2</td>\n",
       "      <td>PlayStation 4</td>\n",
       "      <td>Kalypso</td>\n",
       "      <td>May 24, 2016</td>\n",
       "      <td>61.0</td>\n",
       "      <td>6.6</td>\n",
       "      <td>Kalypso</td>\n",
       "      <td>Strategy, General</td>\n",
       "      <td>Up to 4</td>\n",
       "      <td>T</td>\n",
       "      <td>15</td>\n",
       "      <td>6</td>\n",
       "      <td>4.0</td>\n",
       "      <td>1.0</td>\n",
       "      <td>1.0</td>\n",
       "      <td>7.0</td>\n",
       "    </tr>\n",
       "    <tr>\n",
       "      <th>3</th>\n",
       "      <td>WE ARE DOOMED</td>\n",
       "      <td>PlayStation 4</td>\n",
       "      <td>Vertex Pop</td>\n",
       "      <td>Apr 14, 2015</td>\n",
       "      <td>61.0</td>\n",
       "      <td>5.9</td>\n",
       "      <td>Vertex Pop</td>\n",
       "      <td>Action, Shooter, Shoot-'Em-Up, Horizontal</td>\n",
       "      <td>NaN</td>\n",
       "      <td>E</td>\n",
       "      <td>10</td>\n",
       "      <td>9</td>\n",
       "      <td>3.0</td>\n",
       "      <td>2.0</td>\n",
       "      <td>1.0</td>\n",
       "      <td>6.0</td>\n",
       "    </tr>\n",
       "    <tr>\n",
       "      <th>4</th>\n",
       "      <td>Sixty Second Shooter Prime</td>\n",
       "      <td>Xbox One</td>\n",
       "      <td>Happion Laboratories</td>\n",
       "      <td>Jun 18, 2014</td>\n",
       "      <td>61.0</td>\n",
       "      <td>7.1</td>\n",
       "      <td>Happion Laboratories</td>\n",
       "      <td>Action, Shooter, Static, Shoot-'Em-Up, Top-Down</td>\n",
       "      <td>NaN</td>\n",
       "      <td>E</td>\n",
       "      <td>9</td>\n",
       "      <td>2</td>\n",
       "      <td>5.0</td>\n",
       "      <td>0.0</td>\n",
       "      <td>1.0</td>\n",
       "      <td>7.0</td>\n",
       "    </tr>\n",
       "  </tbody>\n",
       "</table>\n",
       "</div>"
      ],
      "text/plain": [
       "                       game_name       platform             publisher  \\\n",
       "0                        Tharsis             PC     Choice Provisions   \n",
       "1  WWI Tannenberg: Eastern Front  PlayStation 4       Blackmill Games   \n",
       "2                     Dungeons 2  PlayStation 4               Kalypso   \n",
       "3                  WE ARE DOOMED  PlayStation 4            Vertex Pop   \n",
       "4     Sixty Second Shooter Prime       Xbox One  Happion Laboratories   \n",
       "\n",
       "   release_date  meta_scroe user_score            develeoper  \\\n",
       "0  Jan 11, 2016        61.0        4.8     Choice Provisions   \n",
       "1  Jul 24, 2020        61.0        8.3                   M2H   \n",
       "2  May 24, 2016        61.0        6.6               Kalypso   \n",
       "3  Apr 14, 2015        61.0        5.9            Vertex Pop   \n",
       "4  Jun 18, 2014        61.0        7.1  Happion Laboratories   \n",
       "\n",
       "                                            genres         num_of_players  \\\n",
       "0                 Miscellaneous, Board / Card Game  No Online Multiplayer   \n",
       "1          Action, Shooter, First-Person, Tactical               Up to 40   \n",
       "2                                Strategy, General                Up to 4   \n",
       "3        Action, Shooter, Shoot-'Em-Up, Horizontal                    NaN   \n",
       "4  Action, Shooter, Static, Shoot-'Em-Up, Top-Down                    NaN   \n",
       "\n",
       "  rating user_positive_review user_negative_review user_mixed_review  \\\n",
       "0      M                   19                   27              11.0   \n",
       "1      M                    4                    0               2.0   \n",
       "2      T                   15                    6               4.0   \n",
       "3      E                   10                    9               3.0   \n",
       "4      E                    9                    2               5.0   \n",
       "\n",
       "   critic_positive_review  critic_negative_review  critic_mixed_review  \n",
       "0                     3.0                     3.0                 17.0  \n",
       "1                     3.0                     1.0                  6.0  \n",
       "2                     1.0                     1.0                  7.0  \n",
       "3                     2.0                     1.0                  6.0  \n",
       "4                     0.0                     1.0                  7.0  "
      ]
     },
     "execution_count": 15,
     "metadata": {},
     "output_type": "execute_result"
    }
   ],
   "source": [
    "df.head()"
   ]
  },
  {
   "cell_type": "code",
   "execution_count": 17,
   "id": "b0d3cf6b",
   "metadata": {},
   "outputs": [
    {
     "name": "stdout",
     "output_type": "stream",
     "text": [
      "<class 'pandas.core.frame.DataFrame'>\n",
      "RangeIndex: 15090 entries, 0 to 15089\n",
      "Data columns (total 16 columns):\n",
      " #   Column                  Non-Null Count  Dtype  \n",
      "---  ------                  --------------  -----  \n",
      " 0   game_name               15090 non-null  object \n",
      " 1   platform                15090 non-null  object \n",
      " 2   publisher               15082 non-null  object \n",
      " 3   release_date            15090 non-null  object \n",
      " 4   meta_scroe              15083 non-null  float64\n",
      " 5   user_score              15087 non-null  object \n",
      " 6   develeoper              15073 non-null  object \n",
      " 7   genres                  15090 non-null  object \n",
      " 8   num_of_players          12157 non-null  object \n",
      " 9   rating                  13550 non-null  object \n",
      " 10  user_positive_review    14108 non-null  object \n",
      " 11  user_negative_review    14108 non-null  object \n",
      " 12  user_mixed_review       14108 non-null  object \n",
      " 13  critic_positive_review  15085 non-null  float64\n",
      " 14  critic_negative_review  15085 non-null  float64\n",
      " 15  critic_mixed_review     15085 non-null  float64\n",
      "dtypes: float64(4), object(12)\n",
      "memory usage: 1.8+ MB\n"
     ]
    }
   ],
   "source": [
    "df.info()"
   ]
  },
  {
   "cell_type": "markdown",
   "id": "9d8b8c74",
   "metadata": {},
   "source": [
    "--------------"
   ]
  },
  {
   "cell_type": "markdown",
   "id": "8f2e3212",
   "metadata": {},
   "source": [
    "Dropping the nan values for: 'meta_scroe', 'publisher', 'develeoper':"
   ]
  },
  {
   "cell_type": "code",
   "execution_count": 18,
   "id": "f582b2ba",
   "metadata": {},
   "outputs": [],
   "source": [
    "df.dropna(subset=['meta_scroe'], inplace=True)\n",
    "df.dropna(subset=['publisher'], inplace=True)\n",
    "df.dropna(subset=['develeoper'], inplace=True)"
   ]
  },
  {
   "cell_type": "markdown",
   "id": "3faa2bfa",
   "metadata": {},
   "source": [
    "## In user_score there are some 'tbd' values \n",
    "'tbd' = to be declade"
   ]
  },
  {
   "cell_type": "code",
   "execution_count": 19,
   "id": "45cea8bf",
   "metadata": {},
   "outputs": [
    {
     "data": {
      "text/html": [
       "<div>\n",
       "<style scoped>\n",
       "    .dataframe tbody tr th:only-of-type {\n",
       "        vertical-align: middle;\n",
       "    }\n",
       "\n",
       "    .dataframe tbody tr th {\n",
       "        vertical-align: top;\n",
       "    }\n",
       "\n",
       "    .dataframe thead th {\n",
       "        text-align: right;\n",
       "    }\n",
       "</style>\n",
       "<table border=\"1\" class=\"dataframe\">\n",
       "  <thead>\n",
       "    <tr style=\"text-align: right;\">\n",
       "      <th></th>\n",
       "      <th>game_name</th>\n",
       "      <th>platform</th>\n",
       "      <th>publisher</th>\n",
       "      <th>release_date</th>\n",
       "      <th>meta_scroe</th>\n",
       "      <th>user_score</th>\n",
       "      <th>develeoper</th>\n",
       "      <th>genres</th>\n",
       "      <th>num_of_players</th>\n",
       "      <th>rating</th>\n",
       "      <th>user_positive_review</th>\n",
       "      <th>user_negative_review</th>\n",
       "      <th>user_mixed_review</th>\n",
       "      <th>critic_positive_review</th>\n",
       "      <th>critic_negative_review</th>\n",
       "      <th>critic_mixed_review</th>\n",
       "    </tr>\n",
       "  </thead>\n",
       "  <tbody>\n",
       "    <tr>\n",
       "      <th>25</th>\n",
       "      <td>King Arthur</td>\n",
       "      <td>Xbox</td>\n",
       "      <td>Konami</td>\n",
       "      <td>Nov 16, 2004</td>\n",
       "      <td>61.0</td>\n",
       "      <td>tbd</td>\n",
       "      <td>Krome Studios</td>\n",
       "      <td>Action Adventure, Fantasy</td>\n",
       "      <td>1-2</td>\n",
       "      <td>T</td>\n",
       "      <td>0</td>\n",
       "      <td>1</td>\n",
       "      <td>1.0</td>\n",
       "      <td>2.0</td>\n",
       "      <td>2.0</td>\n",
       "      <td>11.0</td>\n",
       "    </tr>\n",
       "    <tr>\n",
       "      <th>30</th>\n",
       "      <td>The Messenger (2001)</td>\n",
       "      <td>PC</td>\n",
       "      <td>DreamCatcher Interactive</td>\n",
       "      <td>Feb 14, 2001</td>\n",
       "      <td>61.0</td>\n",
       "      <td>tbd</td>\n",
       "      <td>Index Multimedia</td>\n",
       "      <td>Adventure, General, General</td>\n",
       "      <td>1 Player</td>\n",
       "      <td>T</td>\n",
       "      <td>NaN</td>\n",
       "      <td>NaN</td>\n",
       "      <td>NaN</td>\n",
       "      <td>2.0</td>\n",
       "      <td>1.0</td>\n",
       "      <td>11.0</td>\n",
       "    </tr>\n",
       "    <tr>\n",
       "      <th>32</th>\n",
       "      <td>Hunter's Legacy</td>\n",
       "      <td>Xbox One</td>\n",
       "      <td>Lienzo</td>\n",
       "      <td>Jan 20, 2017</td>\n",
       "      <td>61.0</td>\n",
       "      <td>tbd</td>\n",
       "      <td>Lienzo</td>\n",
       "      <td>Action, Action Adventure, Platformer, Open-Wor...</td>\n",
       "      <td>No Online Multiplayer</td>\n",
       "      <td>E</td>\n",
       "      <td>0</td>\n",
       "      <td>0</td>\n",
       "      <td>1.0</td>\n",
       "      <td>1.0</td>\n",
       "      <td>1.0</td>\n",
       "      <td>5.0</td>\n",
       "    </tr>\n",
       "    <tr>\n",
       "      <th>38</th>\n",
       "      <td>Nikoli's Pencil Puzzle</td>\n",
       "      <td>3DS</td>\n",
       "      <td>Konami</td>\n",
       "      <td>Oct 25, 2011</td>\n",
       "      <td>61.0</td>\n",
       "      <td>tbd</td>\n",
       "      <td>NATSUME ATARI Inc.</td>\n",
       "      <td>Miscellaneous, Puzzle, Puzzle, Puzzle, Logic, ...</td>\n",
       "      <td>NaN</td>\n",
       "      <td>E</td>\n",
       "      <td>2</td>\n",
       "      <td>1</td>\n",
       "      <td>0.0</td>\n",
       "      <td>1.0</td>\n",
       "      <td>0.0</td>\n",
       "      <td>6.0</td>\n",
       "    </tr>\n",
       "    <tr>\n",
       "      <th>41</th>\n",
       "      <td>Maglam Lord</td>\n",
       "      <td>PlayStation 4</td>\n",
       "      <td>PQube</td>\n",
       "      <td>Feb  4, 2022</td>\n",
       "      <td>61.0</td>\n",
       "      <td>tbd</td>\n",
       "      <td>Felistella</td>\n",
       "      <td>Role-Playing, Action RPG</td>\n",
       "      <td>No Online Multiplayer</td>\n",
       "      <td>T</td>\n",
       "      <td>NaN</td>\n",
       "      <td>NaN</td>\n",
       "      <td>NaN</td>\n",
       "      <td>0.0</td>\n",
       "      <td>0.0</td>\n",
       "      <td>7.0</td>\n",
       "    </tr>\n",
       "  </tbody>\n",
       "</table>\n",
       "</div>"
      ],
      "text/plain": [
       "                 game_name       platform                 publisher  \\\n",
       "25             King Arthur           Xbox                    Konami   \n",
       "30    The Messenger (2001)             PC  DreamCatcher Interactive   \n",
       "32         Hunter's Legacy       Xbox One                    Lienzo   \n",
       "38  Nikoli's Pencil Puzzle            3DS                    Konami   \n",
       "41             Maglam Lord  PlayStation 4                     PQube   \n",
       "\n",
       "    release_date  meta_scroe user_score          develeoper  \\\n",
       "25  Nov 16, 2004        61.0        tbd       Krome Studios   \n",
       "30  Feb 14, 2001        61.0        tbd    Index Multimedia   \n",
       "32  Jan 20, 2017        61.0        tbd              Lienzo   \n",
       "38  Oct 25, 2011        61.0        tbd  NATSUME ATARI Inc.   \n",
       "41  Feb  4, 2022        61.0        tbd          Felistella   \n",
       "\n",
       "                                               genres         num_of_players  \\\n",
       "25                          Action Adventure, Fantasy                    1-2   \n",
       "30                        Adventure, General, General               1 Player   \n",
       "32  Action, Action Adventure, Platformer, Open-Wor...  No Online Multiplayer   \n",
       "38  Miscellaneous, Puzzle, Puzzle, Puzzle, Logic, ...                    NaN   \n",
       "41                           Role-Playing, Action RPG  No Online Multiplayer   \n",
       "\n",
       "   rating user_positive_review user_negative_review user_mixed_review  \\\n",
       "25      T                    0                    1               1.0   \n",
       "30      T                  NaN                  NaN               NaN   \n",
       "32      E                    0                    0               1.0   \n",
       "38      E                    2                    1               0.0   \n",
       "41      T                  NaN                  NaN               NaN   \n",
       "\n",
       "    critic_positive_review  critic_negative_review  critic_mixed_review  \n",
       "25                     2.0                     2.0                 11.0  \n",
       "30                     2.0                     1.0                 11.0  \n",
       "32                     1.0                     1.0                  5.0  \n",
       "38                     1.0                     0.0                  6.0  \n",
       "41                     0.0                     0.0                  7.0  "
      ]
     },
     "execution_count": 19,
     "metadata": {},
     "output_type": "execute_result"
    }
   ],
   "source": [
    "df[df['user_score'] == \"tbd\"].head()"
   ]
  },
  {
   "cell_type": "markdown",
   "id": "18d97778",
   "metadata": {},
   "source": [
    "changing the 'tbd' to nan values:"
   ]
  },
  {
   "cell_type": "code",
   "execution_count": 20,
   "id": "8cc92652",
   "metadata": {},
   "outputs": [
    {
     "data": {
      "text/html": [
       "<div>\n",
       "<style scoped>\n",
       "    .dataframe tbody tr th:only-of-type {\n",
       "        vertical-align: middle;\n",
       "    }\n",
       "\n",
       "    .dataframe tbody tr th {\n",
       "        vertical-align: top;\n",
       "    }\n",
       "\n",
       "    .dataframe thead th {\n",
       "        text-align: right;\n",
       "    }\n",
       "</style>\n",
       "<table border=\"1\" class=\"dataframe\">\n",
       "  <thead>\n",
       "    <tr style=\"text-align: right;\">\n",
       "      <th></th>\n",
       "      <th>game_name</th>\n",
       "      <th>platform</th>\n",
       "      <th>publisher</th>\n",
       "      <th>release_date</th>\n",
       "      <th>meta_scroe</th>\n",
       "      <th>user_score</th>\n",
       "      <th>develeoper</th>\n",
       "      <th>genres</th>\n",
       "      <th>num_of_players</th>\n",
       "      <th>rating</th>\n",
       "      <th>user_positive_review</th>\n",
       "      <th>user_negative_review</th>\n",
       "      <th>user_mixed_review</th>\n",
       "      <th>critic_positive_review</th>\n",
       "      <th>critic_negative_review</th>\n",
       "      <th>critic_mixed_review</th>\n",
       "    </tr>\n",
       "  </thead>\n",
       "  <tbody>\n",
       "  </tbody>\n",
       "</table>\n",
       "</div>"
      ],
      "text/plain": [
       "Empty DataFrame\n",
       "Columns: [game_name, platform, publisher, release_date, meta_scroe, user_score, develeoper, genres, num_of_players, rating, user_positive_review, user_negative_review, user_mixed_review, critic_positive_review, critic_negative_review, critic_mixed_review]\n",
       "Index: []"
      ]
     },
     "execution_count": 20,
     "metadata": {},
     "output_type": "execute_result"
    }
   ],
   "source": [
    "df.replace(\"tbd\", np.nan, inplace=True)\n",
    "df[df[\"user_score\"] == \"tbd\"]"
   ]
  },
  {
   "cell_type": "markdown",
   "id": "8c0d091c",
   "metadata": {},
   "source": [
    "## Filling the user_score nan values with the mean values"
   ]
  },
  {
   "cell_type": "code",
   "execution_count": 22,
   "id": "54e76b6f",
   "metadata": {},
   "outputs": [],
   "source": [
    "df[\"user_score\"] = df[\"user_score\"].astype(\"float64\")\n",
    "df[\"user_score\"].fillna(df[\"user_score\"].mean(), inplace=True)"
   ]
  },
  {
   "cell_type": "markdown",
   "id": "c1bec438",
   "metadata": {},
   "source": [
    "--------------\n",
    "Checking the data"
   ]
  },
  {
   "cell_type": "code",
   "execution_count": 24,
   "id": "4b0b7001",
   "metadata": {},
   "outputs": [
    {
     "name": "stdout",
     "output_type": "stream",
     "text": [
      "<class 'pandas.core.frame.DataFrame'>\n",
      "Int64Index: 15059 entries, 0 to 15089\n",
      "Data columns (total 16 columns):\n",
      " #   Column                  Non-Null Count  Dtype  \n",
      "---  ------                  --------------  -----  \n",
      " 0   game_name               15059 non-null  object \n",
      " 1   platform                15059 non-null  object \n",
      " 2   publisher               15059 non-null  object \n",
      " 3   release_date            15059 non-null  object \n",
      " 4   meta_scroe              15059 non-null  float64\n",
      " 5   user_score              15059 non-null  float64\n",
      " 6   develeoper              15059 non-null  object \n",
      " 7   genres                  15059 non-null  object \n",
      " 8   num_of_players          12138 non-null  object \n",
      " 9   rating                  13533 non-null  object \n",
      " 10  user_positive_review    14086 non-null  object \n",
      " 11  user_negative_review    14086 non-null  object \n",
      " 12  user_mixed_review       14086 non-null  object \n",
      " 13  critic_positive_review  15059 non-null  float64\n",
      " 14  critic_negative_review  15059 non-null  float64\n",
      " 15  critic_mixed_review     15059 non-null  float64\n",
      "dtypes: float64(5), object(11)\n",
      "memory usage: 2.0+ MB\n"
     ]
    }
   ],
   "source": [
    "df.info()"
   ]
  },
  {
   "cell_type": "markdown",
   "id": "0f00030b",
   "metadata": {},
   "source": [
    "--------------"
   ]
  },
  {
   "cell_type": "markdown",
   "id": "fa4a731f",
   "metadata": {},
   "source": [
    "### Data with large numbers are with commas"
   ]
  },
  {
   "cell_type": "code",
   "execution_count": 26,
   "id": "ca15a261",
   "metadata": {},
   "outputs": [
    {
     "data": {
      "text/plain": [
       "'1,293'"
      ]
     },
     "execution_count": 26,
     "metadata": {},
     "output_type": "execute_result"
    }
   ],
   "source": [
    "df[\"user_positive_review\"][6000]"
   ]
  },
  {
   "cell_type": "markdown",
   "id": "cdcd1172",
   "metadata": {},
   "source": [
    "Therefore, a simple conversion to the int type will not help here"
   ]
  },
  {
   "cell_type": "markdown",
   "id": "e946b542",
   "metadata": {},
   "source": [
    "# Review Data handling"
   ]
  },
  {
   "cell_type": "markdown",
   "id": "71f229cf",
   "metadata": {},
   "source": [
    "## Conversion of all review data"
   ]
  },
  {
   "cell_type": "code",
   "execution_count": 27,
   "id": "ba1669da",
   "metadata": {},
   "outputs": [],
   "source": [
    "colums = [\"user_positive_review\", \"user_negative_review\", \"user_mixed_review\"]\n",
    "for column in colums:\n",
    "    nums = []\n",
    "    for string in df[column]:\n",
    "        if(type(string) != float):\n",
    "            nums.append(int(string.replace(\",\", \"\")))\n",
    "        else:\n",
    "            nums.append(np.nan)\n",
    "    df[column] = nums"
   ]
  },
  {
   "cell_type": "markdown",
   "id": "d1caceee",
   "metadata": {},
   "source": [
    "## Filling the review data nan values with the mean values"
   ]
  },
  {
   "cell_type": "code",
   "execution_count": 28,
   "id": "e8dfff66",
   "metadata": {},
   "outputs": [],
   "source": [
    "columns = [\n",
    "    \"user_positive_review\", \"user_negative_review\", \"user_mixed_review\",\n",
    "    \"critic_positive_review\", \"critic_negative_review\", \"critic_mixed_review\"\n",
    "]\n",
    "for column in columns:\n",
    "    df[column] = df[column].astype(\"float\")\n",
    "    df[column].fillna(df[column].mean(), inplace=True)"
   ]
  },
  {
   "cell_type": "markdown",
   "id": "5eab9f08",
   "metadata": {},
   "source": [
    "## Normalizing the review data"
   ]
  },
  {
   "cell_type": "code",
   "execution_count": 29,
   "id": "16fe0bde",
   "metadata": {},
   "outputs": [],
   "source": [
    "# making a new normalize column of 'user_positive_review'\n",
    "user_review = df.iloc[:,10:13].copy()\n",
    "user_review_sum = user_review[\"user_positive_review\"] + user_review[\"user_negative_review\"] + user_review[\"user_mixed_review\"]\n",
    "user_review[\"user_positive_normalize\"] = user_review[\"user_positive_review\"] / user_review_sum\n",
    "\n",
    "df[\"user_positive_normelize\"] = user_review[\"user_positive_normalize\"]\n"
   ]
  },
  {
   "cell_type": "code",
   "execution_count": 30,
   "id": "68720656",
   "metadata": {},
   "outputs": [],
   "source": [
    "# making a new normalize column of 'critic_positive_review'\n",
    "critic_review = df.iloc[:,-4:-1].copy()\n",
    "critic_review_sum = critic_review[\"critic_positive_review\"] + critic_review[\"critic_mixed_review\"] + critic_review[\"critic_negative_review\"]\n",
    "critic_review[\"critic_positive_normalize\"] = critic_review[\"critic_positive_review\"] / critic_review_sum\n",
    "\n",
    "df[\"critic_positive_normelize\"] = critic_review[\"critic_positive_normalize\"]\n"
   ]
  },
  {
   "cell_type": "code",
   "execution_count": 31,
   "id": "5241e204",
   "metadata": {},
   "outputs": [],
   "source": [
    "df.drop(columns, axis=1, inplace=True)"
   ]
  },
  {
   "cell_type": "markdown",
   "id": "496f7a7b",
   "metadata": {},
   "source": [
    "--------------\n",
    "Checking the data"
   ]
  },
  {
   "cell_type": "code",
   "execution_count": 32,
   "id": "c5328226",
   "metadata": {},
   "outputs": [
    {
     "data": {
      "text/html": [
       "<div>\n",
       "<style scoped>\n",
       "    .dataframe tbody tr th:only-of-type {\n",
       "        vertical-align: middle;\n",
       "    }\n",
       "\n",
       "    .dataframe tbody tr th {\n",
       "        vertical-align: top;\n",
       "    }\n",
       "\n",
       "    .dataframe thead th {\n",
       "        text-align: right;\n",
       "    }\n",
       "</style>\n",
       "<table border=\"1\" class=\"dataframe\">\n",
       "  <thead>\n",
       "    <tr style=\"text-align: right;\">\n",
       "      <th></th>\n",
       "      <th>game_name</th>\n",
       "      <th>platform</th>\n",
       "      <th>publisher</th>\n",
       "      <th>release_date</th>\n",
       "      <th>meta_scroe</th>\n",
       "      <th>user_score</th>\n",
       "      <th>develeoper</th>\n",
       "      <th>genres</th>\n",
       "      <th>num_of_players</th>\n",
       "      <th>rating</th>\n",
       "      <th>user_positive_normelize</th>\n",
       "      <th>critic_positive_normelize</th>\n",
       "    </tr>\n",
       "  </thead>\n",
       "  <tbody>\n",
       "    <tr>\n",
       "      <th>0</th>\n",
       "      <td>Tharsis</td>\n",
       "      <td>PC</td>\n",
       "      <td>Choice Provisions</td>\n",
       "      <td>Jan 11, 2016</td>\n",
       "      <td>61.0</td>\n",
       "      <td>4.8</td>\n",
       "      <td>Choice Provisions</td>\n",
       "      <td>Miscellaneous, Board / Card Game</td>\n",
       "      <td>No Online Multiplayer</td>\n",
       "      <td>M</td>\n",
       "      <td>0.234607</td>\n",
       "      <td>0.130435</td>\n",
       "    </tr>\n",
       "    <tr>\n",
       "      <th>1</th>\n",
       "      <td>WWI Tannenberg: Eastern Front</td>\n",
       "      <td>PlayStation 4</td>\n",
       "      <td>Blackmill Games</td>\n",
       "      <td>Jul 24, 2020</td>\n",
       "      <td>61.0</td>\n",
       "      <td>8.3</td>\n",
       "      <td>M2H</td>\n",
       "      <td>Action, Shooter, First-Person, Tactical</td>\n",
       "      <td>Up to 40</td>\n",
       "      <td>M</td>\n",
       "      <td>0.102600</td>\n",
       "      <td>0.300000</td>\n",
       "    </tr>\n",
       "    <tr>\n",
       "      <th>2</th>\n",
       "      <td>Dungeons 2</td>\n",
       "      <td>PlayStation 4</td>\n",
       "      <td>Kalypso</td>\n",
       "      <td>May 24, 2016</td>\n",
       "      <td>61.0</td>\n",
       "      <td>6.6</td>\n",
       "      <td>Kalypso</td>\n",
       "      <td>Strategy, General</td>\n",
       "      <td>Up to 4</td>\n",
       "      <td>T</td>\n",
       "      <td>0.267923</td>\n",
       "      <td>0.111111</td>\n",
       "    </tr>\n",
       "    <tr>\n",
       "      <th>3</th>\n",
       "      <td>WE ARE DOOMED</td>\n",
       "      <td>PlayStation 4</td>\n",
       "      <td>Vertex Pop</td>\n",
       "      <td>Apr 14, 2015</td>\n",
       "      <td>61.0</td>\n",
       "      <td>5.9</td>\n",
       "      <td>Vertex Pop</td>\n",
       "      <td>Action, Shooter, Shoot-'Em-Up, Horizontal</td>\n",
       "      <td>NaN</td>\n",
       "      <td>E</td>\n",
       "      <td>0.185232</td>\n",
       "      <td>0.222222</td>\n",
       "    </tr>\n",
       "    <tr>\n",
       "      <th>4</th>\n",
       "      <td>Sixty Second Shooter Prime</td>\n",
       "      <td>Xbox One</td>\n",
       "      <td>Happion Laboratories</td>\n",
       "      <td>Jun 18, 2014</td>\n",
       "      <td>61.0</td>\n",
       "      <td>7.1</td>\n",
       "      <td>Happion Laboratories</td>\n",
       "      <td>Action, Shooter, Static, Shoot-'Em-Up, Top-Down</td>\n",
       "      <td>NaN</td>\n",
       "      <td>E</td>\n",
       "      <td>0.195710</td>\n",
       "      <td>0.000000</td>\n",
       "    </tr>\n",
       "  </tbody>\n",
       "</table>\n",
       "</div>"
      ],
      "text/plain": [
       "                       game_name       platform             publisher  \\\n",
       "0                        Tharsis             PC     Choice Provisions   \n",
       "1  WWI Tannenberg: Eastern Front  PlayStation 4       Blackmill Games   \n",
       "2                     Dungeons 2  PlayStation 4               Kalypso   \n",
       "3                  WE ARE DOOMED  PlayStation 4            Vertex Pop   \n",
       "4     Sixty Second Shooter Prime       Xbox One  Happion Laboratories   \n",
       "\n",
       "   release_date  meta_scroe  user_score            develeoper  \\\n",
       "0  Jan 11, 2016        61.0         4.8     Choice Provisions   \n",
       "1  Jul 24, 2020        61.0         8.3                   M2H   \n",
       "2  May 24, 2016        61.0         6.6               Kalypso   \n",
       "3  Apr 14, 2015        61.0         5.9            Vertex Pop   \n",
       "4  Jun 18, 2014        61.0         7.1  Happion Laboratories   \n",
       "\n",
       "                                            genres         num_of_players  \\\n",
       "0                 Miscellaneous, Board / Card Game  No Online Multiplayer   \n",
       "1          Action, Shooter, First-Person, Tactical               Up to 40   \n",
       "2                                Strategy, General                Up to 4   \n",
       "3        Action, Shooter, Shoot-'Em-Up, Horizontal                    NaN   \n",
       "4  Action, Shooter, Static, Shoot-'Em-Up, Top-Down                    NaN   \n",
       "\n",
       "  rating  user_positive_normelize  critic_positive_normelize  \n",
       "0      M                 0.234607                   0.130435  \n",
       "1      M                 0.102600                   0.300000  \n",
       "2      T                 0.267923                   0.111111  \n",
       "3      E                 0.185232                   0.222222  \n",
       "4      E                 0.195710                   0.000000  "
      ]
     },
     "execution_count": 32,
     "metadata": {},
     "output_type": "execute_result"
    }
   ],
   "source": [
    "df.head()"
   ]
  },
  {
   "cell_type": "markdown",
   "id": "da869f8d",
   "metadata": {},
   "source": [
    "--------------"
   ]
  },
  {
   "cell_type": "markdown",
   "id": "df4d26e7",
   "metadata": {},
   "source": [
    "# Adding 'max_players' and 'online_game' columns\n",
    "With the information in the 'num_of_players' column"
   ]
  },
  {
   "cell_type": "code",
   "execution_count": 33,
   "id": "32442165",
   "metadata": {},
   "outputs": [],
   "source": [
    "num_of_players_unique = list(df[\"num_of_players\"].unique())\n",
    "\n",
    "replace_map_for_max_players = {}\n",
    "replace_map_for_online_game = {}\n",
    "\n",
    "for val in num_of_players_unique:\n",
    "    if(type(val) != float):\n",
    "        max_player = np.nan\n",
    "        max_player_list = [int(s) for s in re.findall(r'\\b\\d+\\b', val)]\n",
    "        if(max_player_list):\n",
    "            max_player = max(max_player_list)\n",
    "            replace_map_for_max_players[val] = max_player\n",
    "        else:\n",
    "            replace_map_for_max_players[val] = 1\n",
    "\n",
    "        \n",
    "        online = ('Online' in val) and ('No Online' not in val)\n",
    "        if(max_player != np.nan):\n",
    "            if(max_player >= 4):\n",
    "                online = True\n",
    "        \n",
    "        if(online):\n",
    "            replace_map_for_online_game[val] = 1\n",
    "        else:\n",
    "            replace_map_for_online_game[val] = 0\n",
    "            \n",
    "    else:\n",
    "        replace_map_for_max_players[val] = 1\n",
    "        replace_map_for_online_game[val] = 0\n",
    "            \n",
    "df[\"max_players\"] = df[\"num_of_players\"].copy()\n",
    "df[\"online_game\"] = df[\"num_of_players\"].copy()\n",
    "\n",
    "df[\"max_players\"].replace(replace_map_for_max_players, inplace=True)\n",
    "df[\"online_game\"].replace(replace_map_for_online_game, inplace=True)\n",
    "\n",
    "df.drop(\"num_of_players\", axis=1, inplace=True)"
   ]
  },
  {
   "cell_type": "markdown",
   "id": "b2cca4de",
   "metadata": {},
   "source": [
    "### 'online_game' column:\n",
    "\n",
    "1 = online\n",
    "\n",
    "0 = not online"
   ]
  },
  {
   "cell_type": "code",
   "execution_count": 34,
   "id": "8df2ee8c",
   "metadata": {},
   "outputs": [
    {
     "data": {
      "text/plain": [
       "array([0, 1], dtype=int64)"
      ]
     },
     "execution_count": 34,
     "metadata": {},
     "output_type": "execute_result"
    }
   ],
   "source": [
    "df[\"online_game\"].unique()"
   ]
  },
  {
   "cell_type": "markdown",
   "id": "a63acf7e",
   "metadata": {},
   "source": [
    "### 'max_players' column:\n",
    "\n",
    "maximum players possible in a game"
   ]
  },
  {
   "cell_type": "code",
   "execution_count": 35,
   "id": "5cecbb74",
   "metadata": {},
   "outputs": [
    {
     "data": {
      "text/plain": [
       "array([ 1, 40,  4,  2,  3, 12,  8,  6,  5, 10, 16, 64, 32, 44,  9, 24, 20,\n",
       "       60, 30, 14, 22, 18, 15, 36], dtype=int64)"
      ]
     },
     "execution_count": 35,
     "metadata": {},
     "output_type": "execute_result"
    }
   ],
   "source": [
    "df[\"max_players\"].unique()"
   ]
  },
  {
   "cell_type": "code",
   "execution_count": 36,
   "id": "c631ceb9",
   "metadata": {},
   "outputs": [],
   "source": [
    "# df = pd.get_dummies(df, columns=[\"online_game\"], prefix=[\"online_game\"])"
   ]
  },
  {
   "cell_type": "markdown",
   "id": "422c9fbc",
   "metadata": {},
   "source": [
    "--------------\n",
    "Checking the data"
   ]
  },
  {
   "cell_type": "code",
   "execution_count": 37,
   "id": "52581df7",
   "metadata": {},
   "outputs": [
    {
     "data": {
      "text/html": [
       "<div>\n",
       "<style scoped>\n",
       "    .dataframe tbody tr th:only-of-type {\n",
       "        vertical-align: middle;\n",
       "    }\n",
       "\n",
       "    .dataframe tbody tr th {\n",
       "        vertical-align: top;\n",
       "    }\n",
       "\n",
       "    .dataframe thead th {\n",
       "        text-align: right;\n",
       "    }\n",
       "</style>\n",
       "<table border=\"1\" class=\"dataframe\">\n",
       "  <thead>\n",
       "    <tr style=\"text-align: right;\">\n",
       "      <th></th>\n",
       "      <th>game_name</th>\n",
       "      <th>platform</th>\n",
       "      <th>publisher</th>\n",
       "      <th>release_date</th>\n",
       "      <th>meta_scroe</th>\n",
       "      <th>user_score</th>\n",
       "      <th>develeoper</th>\n",
       "      <th>genres</th>\n",
       "      <th>rating</th>\n",
       "      <th>user_positive_normelize</th>\n",
       "      <th>critic_positive_normelize</th>\n",
       "      <th>max_players</th>\n",
       "      <th>online_game</th>\n",
       "    </tr>\n",
       "  </thead>\n",
       "  <tbody>\n",
       "    <tr>\n",
       "      <th>0</th>\n",
       "      <td>Tharsis</td>\n",
       "      <td>PC</td>\n",
       "      <td>Choice Provisions</td>\n",
       "      <td>Jan 11, 2016</td>\n",
       "      <td>61.0</td>\n",
       "      <td>4.8</td>\n",
       "      <td>Choice Provisions</td>\n",
       "      <td>Miscellaneous, Board / Card Game</td>\n",
       "      <td>M</td>\n",
       "      <td>0.234607</td>\n",
       "      <td>0.130435</td>\n",
       "      <td>1</td>\n",
       "      <td>0</td>\n",
       "    </tr>\n",
       "    <tr>\n",
       "      <th>1</th>\n",
       "      <td>WWI Tannenberg: Eastern Front</td>\n",
       "      <td>PlayStation 4</td>\n",
       "      <td>Blackmill Games</td>\n",
       "      <td>Jul 24, 2020</td>\n",
       "      <td>61.0</td>\n",
       "      <td>8.3</td>\n",
       "      <td>M2H</td>\n",
       "      <td>Action, Shooter, First-Person, Tactical</td>\n",
       "      <td>M</td>\n",
       "      <td>0.102600</td>\n",
       "      <td>0.300000</td>\n",
       "      <td>40</td>\n",
       "      <td>1</td>\n",
       "    </tr>\n",
       "    <tr>\n",
       "      <th>2</th>\n",
       "      <td>Dungeons 2</td>\n",
       "      <td>PlayStation 4</td>\n",
       "      <td>Kalypso</td>\n",
       "      <td>May 24, 2016</td>\n",
       "      <td>61.0</td>\n",
       "      <td>6.6</td>\n",
       "      <td>Kalypso</td>\n",
       "      <td>Strategy, General</td>\n",
       "      <td>T</td>\n",
       "      <td>0.267923</td>\n",
       "      <td>0.111111</td>\n",
       "      <td>4</td>\n",
       "      <td>1</td>\n",
       "    </tr>\n",
       "    <tr>\n",
       "      <th>3</th>\n",
       "      <td>WE ARE DOOMED</td>\n",
       "      <td>PlayStation 4</td>\n",
       "      <td>Vertex Pop</td>\n",
       "      <td>Apr 14, 2015</td>\n",
       "      <td>61.0</td>\n",
       "      <td>5.9</td>\n",
       "      <td>Vertex Pop</td>\n",
       "      <td>Action, Shooter, Shoot-'Em-Up, Horizontal</td>\n",
       "      <td>E</td>\n",
       "      <td>0.185232</td>\n",
       "      <td>0.222222</td>\n",
       "      <td>1</td>\n",
       "      <td>0</td>\n",
       "    </tr>\n",
       "    <tr>\n",
       "      <th>4</th>\n",
       "      <td>Sixty Second Shooter Prime</td>\n",
       "      <td>Xbox One</td>\n",
       "      <td>Happion Laboratories</td>\n",
       "      <td>Jun 18, 2014</td>\n",
       "      <td>61.0</td>\n",
       "      <td>7.1</td>\n",
       "      <td>Happion Laboratories</td>\n",
       "      <td>Action, Shooter, Static, Shoot-'Em-Up, Top-Down</td>\n",
       "      <td>E</td>\n",
       "      <td>0.195710</td>\n",
       "      <td>0.000000</td>\n",
       "      <td>1</td>\n",
       "      <td>0</td>\n",
       "    </tr>\n",
       "  </tbody>\n",
       "</table>\n",
       "</div>"
      ],
      "text/plain": [
       "                       game_name       platform             publisher  \\\n",
       "0                        Tharsis             PC     Choice Provisions   \n",
       "1  WWI Tannenberg: Eastern Front  PlayStation 4       Blackmill Games   \n",
       "2                     Dungeons 2  PlayStation 4               Kalypso   \n",
       "3                  WE ARE DOOMED  PlayStation 4            Vertex Pop   \n",
       "4     Sixty Second Shooter Prime       Xbox One  Happion Laboratories   \n",
       "\n",
       "   release_date  meta_scroe  user_score            develeoper  \\\n",
       "0  Jan 11, 2016        61.0         4.8     Choice Provisions   \n",
       "1  Jul 24, 2020        61.0         8.3                   M2H   \n",
       "2  May 24, 2016        61.0         6.6               Kalypso   \n",
       "3  Apr 14, 2015        61.0         5.9            Vertex Pop   \n",
       "4  Jun 18, 2014        61.0         7.1  Happion Laboratories   \n",
       "\n",
       "                                            genres rating  \\\n",
       "0                 Miscellaneous, Board / Card Game      M   \n",
       "1          Action, Shooter, First-Person, Tactical      M   \n",
       "2                                Strategy, General      T   \n",
       "3        Action, Shooter, Shoot-'Em-Up, Horizontal      E   \n",
       "4  Action, Shooter, Static, Shoot-'Em-Up, Top-Down      E   \n",
       "\n",
       "   user_positive_normelize  critic_positive_normelize  max_players  \\\n",
       "0                 0.234607                   0.130435            1   \n",
       "1                 0.102600                   0.300000           40   \n",
       "2                 0.267923                   0.111111            4   \n",
       "3                 0.185232                   0.222222            1   \n",
       "4                 0.195710                   0.000000            1   \n",
       "\n",
       "   online_game  \n",
       "0            0  \n",
       "1            1  \n",
       "2            1  \n",
       "3            0  \n",
       "4            0  "
      ]
     },
     "execution_count": 37,
     "metadata": {},
     "output_type": "execute_result"
    }
   ],
   "source": [
    "df.head()"
   ]
  },
  {
   "cell_type": "code",
   "execution_count": 38,
   "id": "a163959d",
   "metadata": {},
   "outputs": [
    {
     "name": "stdout",
     "output_type": "stream",
     "text": [
      "<class 'pandas.core.frame.DataFrame'>\n",
      "Int64Index: 15059 entries, 0 to 15089\n",
      "Data columns (total 13 columns):\n",
      " #   Column                     Non-Null Count  Dtype  \n",
      "---  ------                     --------------  -----  \n",
      " 0   game_name                  15059 non-null  object \n",
      " 1   platform                   15059 non-null  object \n",
      " 2   publisher                  15059 non-null  object \n",
      " 3   release_date               15059 non-null  object \n",
      " 4   meta_scroe                 15059 non-null  float64\n",
      " 5   user_score                 15059 non-null  float64\n",
      " 6   develeoper                 15059 non-null  object \n",
      " 7   genres                     15059 non-null  object \n",
      " 8   rating                     13533 non-null  object \n",
      " 9   user_positive_normelize    15059 non-null  float64\n",
      " 10  critic_positive_normelize  15059 non-null  float64\n",
      " 11  max_players                15059 non-null  int64  \n",
      " 12  online_game                15059 non-null  int64  \n",
      "dtypes: float64(4), int64(2), object(7)\n",
      "memory usage: 2.1+ MB\n"
     ]
    }
   ],
   "source": [
    "df.info()"
   ]
  },
  {
   "cell_type": "markdown",
   "id": "0623aa9c",
   "metadata": {},
   "source": [
    "--------------"
   ]
  },
  {
   "cell_type": "markdown",
   "id": "963d2905",
   "metadata": {},
   "source": [
    "## We will change the names of the platforms to make them more general"
   ]
  },
  {
   "cell_type": "code",
   "execution_count": 39,
   "id": "523faa3c",
   "metadata": {},
   "outputs": [
    {
     "data": {
      "text/plain": [
       "array(['PC', 'PlayStation 4', 'Xbox One', 'PSP', '3DS', 'Switch',\n",
       "       'Xbox 360', 'PlayStation 2', 'PlayStation 3', 'DS', 'Xbox',\n",
       "       'Game Boy Advance', 'PlayStation', 'PlayStation Vita', 'Dreamcast',\n",
       "       'PlayStation 5', 'GameCube', 'Wii U', 'Xbox Series X', 'Wii',\n",
       "       'Nintendo 64'], dtype=object)"
      ]
     },
     "execution_count": 39,
     "metadata": {},
     "output_type": "execute_result"
    }
   ],
   "source": [
    "df[\"platform\"].unique()"
   ]
  },
  {
   "cell_type": "code",
   "execution_count": 40,
   "id": "09c0678c",
   "metadata": {},
   "outputs": [],
   "source": [
    "platform_replace_map = {\n",
    "    'PSP': 'PlayStation',\n",
    "    '3DS': 'Nintendo',\n",
    "    'Switch': 'Nintendo',\n",
    "    'DS': 'Nintendo',\n",
    "    'Game Boy Advance': 'Nintendo',\n",
    "    'Dreamcast': 'Old Platform',\n",
    "    'GameCube': 'Old Platform',\n",
    "    'Nintendo 64': 'Nintendo',\n",
    "    'Stadia': 'PC'\n",
    "}\n",
    "platform_unique_list = list(df[\"platform\"].unique())\n",
    "for val in platform_unique_list:\n",
    "    replaceXbox = re.findall(r'(Xbox) ', val)\n",
    "    replacePlayStation = re.findall(r'(PlayStation) ', val)\n",
    "    replaceWii = re.findall(r'(Wii) ', val)\n",
    "    if(replaceXbox):\n",
    "        platform_replace_map[val] = replaceXbox[0]\n",
    "    if(replacePlayStation):\n",
    "        platform_replace_map[val] = replacePlayStation[0]\n",
    "    if(replaceWii):\n",
    "        platform_replace_map[val] = replaceWii[0]\n",
    "\n",
    "df[\"platform\"].replace(platform_replace_map, inplace=True)"
   ]
  },
  {
   "cell_type": "code",
   "execution_count": 41,
   "id": "c04a2f08",
   "metadata": {},
   "outputs": [
    {
     "data": {
      "text/plain": [
       "array(['PC', 'PlayStation', 'Xbox', 'Nintendo', 'Old Platform', 'Wii'],\n",
       "      dtype=object)"
      ]
     },
     "execution_count": 41,
     "metadata": {},
     "output_type": "execute_result"
    }
   ],
   "source": [
    "df[\"platform\"].unique()"
   ]
  },
  {
   "cell_type": "markdown",
   "id": "a09e8bcf",
   "metadata": {},
   "source": [
    "## We will assign to each rating a value related to the order of the rating"
   ]
  },
  {
   "cell_type": "code",
   "execution_count": 42,
   "id": "c28f930e",
   "metadata": {},
   "outputs": [
    {
     "data": {
      "text/plain": [
       "array(['M', 'T', 'E', 'E10+', nan, 'RP', 'AO', 'K-A'], dtype=object)"
      ]
     },
     "execution_count": 42,
     "metadata": {},
     "output_type": "execute_result"
    }
   ],
   "source": [
    "df[\"rating\"].unique()"
   ]
  },
  {
   "cell_type": "markdown",
   "id": "f7366f8f",
   "metadata": {},
   "source": [
    "first we replace the nan valuse with the top value:"
   ]
  },
  {
   "cell_type": "code",
   "execution_count": 43,
   "id": "d74b7f27",
   "metadata": {},
   "outputs": [],
   "source": [
    "top_val = df[\"rating\"].describe()[2]\n",
    "df[\"rating\"].fillna(top_val, inplace=True)"
   ]
  },
  {
   "cell_type": "markdown",
   "id": "8d85a696",
   "metadata": {},
   "source": [
    "The values will be distributed like this:\n",
    "- RP - Rating Pending == 0\n",
    "- E - Everyone 6 and older == 1\n",
    "- E10+ - 10 and older == 2\n",
    "- K-A - 10 and older == 2\n",
    "- T - Teen 13 and older == 3\n",
    "- m - 17+ == 4\n",
    "- AO - Adults Only 18 years and older == 5"
   ]
  },
  {
   "cell_type": "code",
   "execution_count": 44,
   "id": "a824dae2",
   "metadata": {},
   "outputs": [],
   "source": [
    "rating_replace_map = {\n",
    "    'RP': 0, 'E': 1, 'E10+': 2,\n",
    "    'K-A': 2, 'T': 3, 'M': 4, 'AO': 5}\n",
    "\n",
    "df[\"rating\"].replace(rating_replace_map, inplace=True)"
   ]
  },
  {
   "cell_type": "markdown",
   "id": "3ea4c47b",
   "metadata": {},
   "source": [
    "## scaling the 'meta_scroe' and 'user_score' columns"
   ]
  },
  {
   "cell_type": "code",
   "execution_count": 45,
   "id": "d6fd3751",
   "metadata": {},
   "outputs": [],
   "source": [
    "min_max_scaler = preprocessing.MinMaxScaler()\n",
    "meta_scroe_scaled = min_max_scaler.fit_transform(df[['meta_scroe']])\n",
    "user_score_scaled = min_max_scaler.fit_transform(df[['user_score']])\n",
    "df['meta_score'] = meta_scroe_scaled\n",
    "df['user_score'] = user_score_scaled\n",
    "df.drop(\"meta_scroe\", axis=1, inplace=True)"
   ]
  },
  {
   "cell_type": "markdown",
   "id": "7ad9f705",
   "metadata": {},
   "source": [
    "## The 'release_date' will be divided to two columns: 'release_month' and 'release_year'"
   ]
  },
  {
   "cell_type": "code",
   "execution_count": 46,
   "id": "1ae1680a",
   "metadata": {},
   "outputs": [
    {
     "data": {
      "text/plain": [
       "array(['Jan 11, 2016', 'Jul 24, 2020', 'May 24, 2016', ...,\n",
       "       'Aug 19, 2003', 'Feb 27, 2020', 'Jun 10, 2019'], dtype=object)"
      ]
     },
     "execution_count": 46,
     "metadata": {},
     "output_type": "execute_result"
    }
   ],
   "source": [
    "df[\"release_date\"].unique()"
   ]
  },
  {
   "cell_type": "code",
   "execution_count": 47,
   "id": "a46a77a1",
   "metadata": {},
   "outputs": [],
   "source": [
    "import calendar"
   ]
  },
  {
   "cell_type": "code",
   "execution_count": 48,
   "id": "bc92e670",
   "metadata": {},
   "outputs": [],
   "source": [
    "# Getting months by their numbers\n",
    "month_number = {}\n",
    "for index, month in enumerate(calendar.month_abbr):\n",
    "    if(month):\n",
    "        month_number[month.lower()] = index\n",
    "\n",
    "# Divides into two columns:\n",
    "release_date_list = list(df[\"release_date\"])\n",
    "release_year = []\n",
    "release_month = []\n",
    "for date in release_date_list:\n",
    "    year = re.findall(r'\\b\\d+\\b', date)[1]\n",
    "    release_year.append(int(year))\n",
    "    month = re.findall(r'(\\w\\w\\w) ', date)[0]\n",
    "    release_month.append(month_number[month.lower()])\n",
    "\n",
    "df['release_year'] = release_year\n",
    "df['release_month'] = release_month"
   ]
  },
  {
   "cell_type": "code",
   "execution_count": 49,
   "id": "a3aa8fbd",
   "metadata": {},
   "outputs": [],
   "source": [
    "df.drop(\"release_date\", axis=1, inplace=True)"
   ]
  },
  {
   "cell_type": "markdown",
   "id": "8640a36d",
   "metadata": {},
   "source": [
    "--------------\n",
    "Checking the data"
   ]
  },
  {
   "cell_type": "code",
   "execution_count": 50,
   "id": "83cf1613",
   "metadata": {},
   "outputs": [
    {
     "data": {
      "text/html": [
       "<div>\n",
       "<style scoped>\n",
       "    .dataframe tbody tr th:only-of-type {\n",
       "        vertical-align: middle;\n",
       "    }\n",
       "\n",
       "    .dataframe tbody tr th {\n",
       "        vertical-align: top;\n",
       "    }\n",
       "\n",
       "    .dataframe thead th {\n",
       "        text-align: right;\n",
       "    }\n",
       "</style>\n",
       "<table border=\"1\" class=\"dataframe\">\n",
       "  <thead>\n",
       "    <tr style=\"text-align: right;\">\n",
       "      <th></th>\n",
       "      <th>game_name</th>\n",
       "      <th>platform</th>\n",
       "      <th>publisher</th>\n",
       "      <th>user_score</th>\n",
       "      <th>develeoper</th>\n",
       "      <th>genres</th>\n",
       "      <th>rating</th>\n",
       "      <th>user_positive_normelize</th>\n",
       "      <th>critic_positive_normelize</th>\n",
       "      <th>max_players</th>\n",
       "      <th>online_game</th>\n",
       "      <th>meta_score</th>\n",
       "      <th>release_year</th>\n",
       "      <th>release_month</th>\n",
       "    </tr>\n",
       "  </thead>\n",
       "  <tbody>\n",
       "    <tr>\n",
       "      <th>0</th>\n",
       "      <td>Tharsis</td>\n",
       "      <td>PC</td>\n",
       "      <td>Choice Provisions</td>\n",
       "      <td>0.478723</td>\n",
       "      <td>Choice Provisions</td>\n",
       "      <td>Miscellaneous, Board / Card Game</td>\n",
       "      <td>4</td>\n",
       "      <td>0.234607</td>\n",
       "      <td>0.130435</td>\n",
       "      <td>1</td>\n",
       "      <td>0</td>\n",
       "      <td>0.568182</td>\n",
       "      <td>2016</td>\n",
       "      <td>1</td>\n",
       "    </tr>\n",
       "    <tr>\n",
       "      <th>1</th>\n",
       "      <td>WWI Tannenberg: Eastern Front</td>\n",
       "      <td>PlayStation</td>\n",
       "      <td>Blackmill Games</td>\n",
       "      <td>0.851064</td>\n",
       "      <td>M2H</td>\n",
       "      <td>Action, Shooter, First-Person, Tactical</td>\n",
       "      <td>4</td>\n",
       "      <td>0.102600</td>\n",
       "      <td>0.300000</td>\n",
       "      <td>40</td>\n",
       "      <td>1</td>\n",
       "      <td>0.568182</td>\n",
       "      <td>2020</td>\n",
       "      <td>7</td>\n",
       "    </tr>\n",
       "    <tr>\n",
       "      <th>2</th>\n",
       "      <td>Dungeons 2</td>\n",
       "      <td>PlayStation</td>\n",
       "      <td>Kalypso</td>\n",
       "      <td>0.670213</td>\n",
       "      <td>Kalypso</td>\n",
       "      <td>Strategy, General</td>\n",
       "      <td>3</td>\n",
       "      <td>0.267923</td>\n",
       "      <td>0.111111</td>\n",
       "      <td>4</td>\n",
       "      <td>1</td>\n",
       "      <td>0.568182</td>\n",
       "      <td>2016</td>\n",
       "      <td>5</td>\n",
       "    </tr>\n",
       "    <tr>\n",
       "      <th>3</th>\n",
       "      <td>WE ARE DOOMED</td>\n",
       "      <td>PlayStation</td>\n",
       "      <td>Vertex Pop</td>\n",
       "      <td>0.595745</td>\n",
       "      <td>Vertex Pop</td>\n",
       "      <td>Action, Shooter, Shoot-'Em-Up, Horizontal</td>\n",
       "      <td>1</td>\n",
       "      <td>0.185232</td>\n",
       "      <td>0.222222</td>\n",
       "      <td>1</td>\n",
       "      <td>0</td>\n",
       "      <td>0.568182</td>\n",
       "      <td>2015</td>\n",
       "      <td>4</td>\n",
       "    </tr>\n",
       "    <tr>\n",
       "      <th>4</th>\n",
       "      <td>Sixty Second Shooter Prime</td>\n",
       "      <td>Xbox</td>\n",
       "      <td>Happion Laboratories</td>\n",
       "      <td>0.723404</td>\n",
       "      <td>Happion Laboratories</td>\n",
       "      <td>Action, Shooter, Static, Shoot-'Em-Up, Top-Down</td>\n",
       "      <td>1</td>\n",
       "      <td>0.195710</td>\n",
       "      <td>0.000000</td>\n",
       "      <td>1</td>\n",
       "      <td>0</td>\n",
       "      <td>0.568182</td>\n",
       "      <td>2014</td>\n",
       "      <td>6</td>\n",
       "    </tr>\n",
       "  </tbody>\n",
       "</table>\n",
       "</div>"
      ],
      "text/plain": [
       "                       game_name     platform             publisher  \\\n",
       "0                        Tharsis           PC     Choice Provisions   \n",
       "1  WWI Tannenberg: Eastern Front  PlayStation       Blackmill Games   \n",
       "2                     Dungeons 2  PlayStation               Kalypso   \n",
       "3                  WE ARE DOOMED  PlayStation            Vertex Pop   \n",
       "4     Sixty Second Shooter Prime         Xbox  Happion Laboratories   \n",
       "\n",
       "   user_score            develeoper  \\\n",
       "0    0.478723     Choice Provisions   \n",
       "1    0.851064                   M2H   \n",
       "2    0.670213               Kalypso   \n",
       "3    0.595745            Vertex Pop   \n",
       "4    0.723404  Happion Laboratories   \n",
       "\n",
       "                                            genres  rating  \\\n",
       "0                 Miscellaneous, Board / Card Game       4   \n",
       "1          Action, Shooter, First-Person, Tactical       4   \n",
       "2                                Strategy, General       3   \n",
       "3        Action, Shooter, Shoot-'Em-Up, Horizontal       1   \n",
       "4  Action, Shooter, Static, Shoot-'Em-Up, Top-Down       1   \n",
       "\n",
       "   user_positive_normelize  critic_positive_normelize  max_players  \\\n",
       "0                 0.234607                   0.130435            1   \n",
       "1                 0.102600                   0.300000           40   \n",
       "2                 0.267923                   0.111111            4   \n",
       "3                 0.185232                   0.222222            1   \n",
       "4                 0.195710                   0.000000            1   \n",
       "\n",
       "   online_game  meta_score  release_year  release_month  \n",
       "0            0    0.568182          2016              1  \n",
       "1            1    0.568182          2020              7  \n",
       "2            1    0.568182          2016              5  \n",
       "3            0    0.568182          2015              4  \n",
       "4            0    0.568182          2014              6  "
      ]
     },
     "execution_count": 50,
     "metadata": {},
     "output_type": "execute_result"
    }
   ],
   "source": [
    "df.head()"
   ]
  },
  {
   "cell_type": "code",
   "execution_count": 52,
   "id": "5ecf803c",
   "metadata": {},
   "outputs": [
    {
     "name": "stdout",
     "output_type": "stream",
     "text": [
      "<class 'pandas.core.frame.DataFrame'>\n",
      "Int64Index: 15059 entries, 0 to 15089\n",
      "Data columns (total 14 columns):\n",
      " #   Column                     Non-Null Count  Dtype  \n",
      "---  ------                     --------------  -----  \n",
      " 0   game_name                  15059 non-null  object \n",
      " 1   platform                   15059 non-null  object \n",
      " 2   publisher                  15059 non-null  object \n",
      " 3   user_score                 15059 non-null  float64\n",
      " 4   develeoper                 15059 non-null  object \n",
      " 5   genres                     15059 non-null  object \n",
      " 6   rating                     15059 non-null  int64  \n",
      " 7   user_positive_normelize    15059 non-null  float64\n",
      " 8   critic_positive_normelize  15059 non-null  float64\n",
      " 9   max_players                15059 non-null  int64  \n",
      " 10  online_game                15059 non-null  int64  \n",
      " 11  meta_score                 15059 non-null  float64\n",
      " 12  release_year               15059 non-null  int64  \n",
      " 13  release_month              15059 non-null  int64  \n",
      "dtypes: float64(4), int64(5), object(5)\n",
      "memory usage: 2.2+ MB\n"
     ]
    }
   ],
   "source": [
    "df.info()"
   ]
  },
  {
   "cell_type": "markdown",
   "id": "72f34939",
   "metadata": {},
   "source": [
    "--------------"
   ]
  },
  {
   "cell_type": "markdown",
   "id": "0687b05f",
   "metadata": {},
   "source": [
    "## The genres are listed in long lists\n",
    "# Extracting the main genres:"
   ]
  },
  {
   "cell_type": "code",
   "execution_count": 53,
   "id": "a7c7ebd1",
   "metadata": {},
   "outputs": [
    {
     "data": {
      "text/plain": [
       "0                         Miscellaneous, Board / Card Game\n",
       "1                  Action, Shooter, First-Person, Tactical\n",
       "2                                        Strategy, General\n",
       "3                Action, Shooter, Shoot-'Em-Up, Horizontal\n",
       "4          Action, Shooter, Static, Shoot-'Em-Up, Top-Down\n",
       "                               ...                        \n",
       "15085                               Action, Platformer, 2D\n",
       "15086                       Racing, Simulation, Automobile\n",
       "15087    Miscellaneous, Puzzle, Action, Puzzle, Puzzle,...\n",
       "15088                         Action Adventure, Open-World\n",
       "15089                         Driving, Racing, GT / Street\n",
       "Name: genres, Length: 15059, dtype: object"
      ]
     },
     "execution_count": 53,
     "metadata": {},
     "output_type": "execute_result"
    }
   ],
   "source": [
    "df[\"genres\"]"
   ]
  },
  {
   "cell_type": "markdown",
   "id": "aa63a85c",
   "metadata": {},
   "source": [
    "Extracting the names of the genres"
   ]
  },
  {
   "cell_type": "code",
   "execution_count": 55,
   "id": "6be449cc",
   "metadata": {},
   "outputs": [
    {
     "data": {
      "text/plain": [
       "169"
      ]
     },
     "execution_count": 55,
     "metadata": {},
     "output_type": "execute_result"
    }
   ],
   "source": [
    "genres_names = set()\n",
    "for genre in df[\"genres\"]:\n",
    "    genre_list = genre.split(\", \")\n",
    "    for name in genre_list:\n",
    "        if(name):\n",
    "            genres_names.add(name)\n",
    "len(genres_names)"
   ]
  },
  {
   "cell_type": "markdown",
   "id": "5baafcd0",
   "metadata": {},
   "source": [
    "### To check which genres are the main ones:\n",
    "\n",
    "- we will count each one\n",
    "\n",
    "- and we will define the main genres as the genres with the most iterations in the data frame"
   ]
  },
  {
   "cell_type": "code",
   "execution_count": 56,
   "id": "532810ae",
   "metadata": {},
   "outputs": [
    {
     "data": {
      "text/plain": [
       "170"
      ]
     },
     "execution_count": 56,
     "metadata": {},
     "output_type": "execute_result"
    }
   ],
   "source": [
    "genres_count = {'': 0}\n",
    "for genre in genres_names:\n",
    "    counter = 0\n",
    "    for val in df[\"genres\"]:\n",
    "        if(genre in val):\n",
    "            counter = counter + 1\n",
    "    genres_count[genre] = counter\n",
    "len(genres_count)"
   ]
  },
  {
   "cell_type": "code",
   "execution_count": 57,
   "id": "7e774dd9",
   "metadata": {},
   "outputs": [],
   "source": [
    "main_genres_per_game = []\n",
    "for game_genres in df[\"genres\"]:\n",
    "    genre_list = game_genres.split(\", \")\n",
    "    max_genre = max(genre_list, key=lambda val: genres_count[val])\n",
    "    main_genres_per_game.append(max_genre)\n",
    "df[\"main_genre\"] = main_genres_per_game"
   ]
  },
  {
   "cell_type": "code",
   "execution_count": 58,
   "id": "6342b972",
   "metadata": {},
   "outputs": [],
   "source": [
    "df.drop(\"genres\", axis=1, inplace=True)"
   ]
  },
  {
   "cell_type": "markdown",
   "id": "b4544c6f",
   "metadata": {},
   "source": [
    "----------------\n",
    "#### Reordering the dataframe"
   ]
  },
  {
   "cell_type": "code",
   "execution_count": 59,
   "id": "14c3b51e",
   "metadata": {},
   "outputs": [
    {
     "data": {
      "text/html": [
       "<div>\n",
       "<style scoped>\n",
       "    .dataframe tbody tr th:only-of-type {\n",
       "        vertical-align: middle;\n",
       "    }\n",
       "\n",
       "    .dataframe tbody tr th {\n",
       "        vertical-align: top;\n",
       "    }\n",
       "\n",
       "    .dataframe thead th {\n",
       "        text-align: right;\n",
       "    }\n",
       "</style>\n",
       "<table border=\"1\" class=\"dataframe\">\n",
       "  <thead>\n",
       "    <tr style=\"text-align: right;\">\n",
       "      <th></th>\n",
       "      <th>game_name</th>\n",
       "      <th>platform</th>\n",
       "      <th>main_genre</th>\n",
       "      <th>develeoper</th>\n",
       "      <th>publisher</th>\n",
       "      <th>max_players</th>\n",
       "      <th>online_game</th>\n",
       "      <th>release_year</th>\n",
       "      <th>release_month</th>\n",
       "      <th>rating</th>\n",
       "      <th>meta_score</th>\n",
       "      <th>user_score</th>\n",
       "      <th>critic_positive_normelize</th>\n",
       "      <th>user_positive_normelize</th>\n",
       "    </tr>\n",
       "  </thead>\n",
       "  <tbody>\n",
       "    <tr>\n",
       "      <th>0</th>\n",
       "      <td>Tharsis</td>\n",
       "      <td>PC</td>\n",
       "      <td>Miscellaneous</td>\n",
       "      <td>Choice Provisions</td>\n",
       "      <td>Choice Provisions</td>\n",
       "      <td>1</td>\n",
       "      <td>0</td>\n",
       "      <td>2016</td>\n",
       "      <td>1</td>\n",
       "      <td>4</td>\n",
       "      <td>0.568182</td>\n",
       "      <td>0.478723</td>\n",
       "      <td>0.130435</td>\n",
       "      <td>0.234607</td>\n",
       "    </tr>\n",
       "    <tr>\n",
       "      <th>1</th>\n",
       "      <td>WWI Tannenberg: Eastern Front</td>\n",
       "      <td>PlayStation</td>\n",
       "      <td>Action</td>\n",
       "      <td>M2H</td>\n",
       "      <td>Blackmill Games</td>\n",
       "      <td>40</td>\n",
       "      <td>1</td>\n",
       "      <td>2020</td>\n",
       "      <td>7</td>\n",
       "      <td>4</td>\n",
       "      <td>0.568182</td>\n",
       "      <td>0.851064</td>\n",
       "      <td>0.300000</td>\n",
       "      <td>0.102600</td>\n",
       "    </tr>\n",
       "    <tr>\n",
       "      <th>2</th>\n",
       "      <td>Dungeons 2</td>\n",
       "      <td>PlayStation</td>\n",
       "      <td>General</td>\n",
       "      <td>Kalypso</td>\n",
       "      <td>Kalypso</td>\n",
       "      <td>4</td>\n",
       "      <td>1</td>\n",
       "      <td>2016</td>\n",
       "      <td>5</td>\n",
       "      <td>3</td>\n",
       "      <td>0.568182</td>\n",
       "      <td>0.670213</td>\n",
       "      <td>0.111111</td>\n",
       "      <td>0.267923</td>\n",
       "    </tr>\n",
       "    <tr>\n",
       "      <th>3</th>\n",
       "      <td>WE ARE DOOMED</td>\n",
       "      <td>PlayStation</td>\n",
       "      <td>Action</td>\n",
       "      <td>Vertex Pop</td>\n",
       "      <td>Vertex Pop</td>\n",
       "      <td>1</td>\n",
       "      <td>0</td>\n",
       "      <td>2015</td>\n",
       "      <td>4</td>\n",
       "      <td>1</td>\n",
       "      <td>0.568182</td>\n",
       "      <td>0.595745</td>\n",
       "      <td>0.222222</td>\n",
       "      <td>0.185232</td>\n",
       "    </tr>\n",
       "    <tr>\n",
       "      <th>4</th>\n",
       "      <td>Sixty Second Shooter Prime</td>\n",
       "      <td>Xbox</td>\n",
       "      <td>Action</td>\n",
       "      <td>Happion Laboratories</td>\n",
       "      <td>Happion Laboratories</td>\n",
       "      <td>1</td>\n",
       "      <td>0</td>\n",
       "      <td>2014</td>\n",
       "      <td>6</td>\n",
       "      <td>1</td>\n",
       "      <td>0.568182</td>\n",
       "      <td>0.723404</td>\n",
       "      <td>0.000000</td>\n",
       "      <td>0.195710</td>\n",
       "    </tr>\n",
       "  </tbody>\n",
       "</table>\n",
       "</div>"
      ],
      "text/plain": [
       "                       game_name     platform     main_genre  \\\n",
       "0                        Tharsis           PC  Miscellaneous   \n",
       "1  WWI Tannenberg: Eastern Front  PlayStation         Action   \n",
       "2                     Dungeons 2  PlayStation        General   \n",
       "3                  WE ARE DOOMED  PlayStation         Action   \n",
       "4     Sixty Second Shooter Prime         Xbox         Action   \n",
       "\n",
       "             develeoper             publisher  max_players  online_game  \\\n",
       "0     Choice Provisions     Choice Provisions            1            0   \n",
       "1                   M2H       Blackmill Games           40            1   \n",
       "2               Kalypso               Kalypso            4            1   \n",
       "3            Vertex Pop            Vertex Pop            1            0   \n",
       "4  Happion Laboratories  Happion Laboratories            1            0   \n",
       "\n",
       "   release_year  release_month  rating  meta_score  user_score  \\\n",
       "0          2016              1       4    0.568182    0.478723   \n",
       "1          2020              7       4    0.568182    0.851064   \n",
       "2          2016              5       3    0.568182    0.670213   \n",
       "3          2015              4       1    0.568182    0.595745   \n",
       "4          2014              6       1    0.568182    0.723404   \n",
       "\n",
       "   critic_positive_normelize  user_positive_normelize  \n",
       "0                   0.130435                 0.234607  \n",
       "1                   0.300000                 0.102600  \n",
       "2                   0.111111                 0.267923  \n",
       "3                   0.222222                 0.185232  \n",
       "4                   0.000000                 0.195710  "
      ]
     },
     "execution_count": 59,
     "metadata": {},
     "output_type": "execute_result"
    }
   ],
   "source": [
    "columns_order = [\"game_name\", \"platform\", \"main_genre\",\n",
    "                 \"develeoper\", \"publisher\", \"max_players\",\n",
    "                 \"online_game\", \"release_year\", \"release_month\",\n",
    "                 \"rating\", \"meta_score\", \"user_score\",\n",
    "                 \"critic_positive_normelize\", \"user_positive_normelize\",\n",
    "                ]\n",
    "df = df[columns_order]\n",
    "df.head()"
   ]
  },
  {
   "cell_type": "markdown",
   "id": "bb194497",
   "metadata": {},
   "source": [
    "----------------"
   ]
  },
  {
   "cell_type": "markdown",
   "id": "9af4aa14",
   "metadata": {},
   "source": [
    "categorising develeoper and publisher columns:"
   ]
  },
  {
   "cell_type": "code",
   "execution_count": 61,
   "id": "31fab0a1",
   "metadata": {},
   "outputs": [],
   "source": [
    "df[\"develeoper\"] = df[\"develeoper\"].astype('category')\n",
    "df[\"publisher\"] = df[\"publisher\"].astype('category')"
   ]
  },
  {
   "cell_type": "markdown",
   "id": "1c3b9911",
   "metadata": {},
   "source": [
    "----------------"
   ]
  },
  {
   "cell_type": "markdown",
   "id": "098b755d",
   "metadata": {},
   "source": [
    "## we have meny duplicates in the data"
   ]
  },
  {
   "cell_type": "code",
   "execution_count": 62,
   "id": "2cd4f2f3",
   "metadata": {},
   "outputs": [
    {
     "data": {
      "text/html": [
       "<div>\n",
       "<style scoped>\n",
       "    .dataframe tbody tr th:only-of-type {\n",
       "        vertical-align: middle;\n",
       "    }\n",
       "\n",
       "    .dataframe tbody tr th {\n",
       "        vertical-align: top;\n",
       "    }\n",
       "\n",
       "    .dataframe thead th {\n",
       "        text-align: right;\n",
       "    }\n",
       "</style>\n",
       "<table border=\"1\" class=\"dataframe\">\n",
       "  <thead>\n",
       "    <tr style=\"text-align: right;\">\n",
       "      <th></th>\n",
       "      <th>game_name</th>\n",
       "      <th>platform</th>\n",
       "      <th>main_genre</th>\n",
       "      <th>develeoper</th>\n",
       "      <th>publisher</th>\n",
       "      <th>max_players</th>\n",
       "      <th>online_game</th>\n",
       "      <th>release_year</th>\n",
       "      <th>release_month</th>\n",
       "      <th>rating</th>\n",
       "      <th>meta_score</th>\n",
       "      <th>user_score</th>\n",
       "      <th>critic_positive_normelize</th>\n",
       "      <th>user_positive_normelize</th>\n",
       "    </tr>\n",
       "  </thead>\n",
       "  <tbody>\n",
       "    <tr>\n",
       "      <th>5769</th>\n",
       "      <td>Assassin's Creed Origins</td>\n",
       "      <td>Xbox</td>\n",
       "      <td>Action Adventure</td>\n",
       "      <td>Ubisoft</td>\n",
       "      <td>Ubisoft</td>\n",
       "      <td>1</td>\n",
       "      <td>0</td>\n",
       "      <td>2017</td>\n",
       "      <td>10</td>\n",
       "      <td>4</td>\n",
       "      <td>0.840909</td>\n",
       "      <td>0.787234</td>\n",
       "      <td>0.880952</td>\n",
       "      <td>0.743562</td>\n",
       "    </tr>\n",
       "    <tr>\n",
       "      <th>6447</th>\n",
       "      <td>Assassin's Creed Origins</td>\n",
       "      <td>PC</td>\n",
       "      <td>Action Adventure</td>\n",
       "      <td>Ubisoft</td>\n",
       "      <td>Ubisoft</td>\n",
       "      <td>1</td>\n",
       "      <td>0</td>\n",
       "      <td>2017</td>\n",
       "      <td>10</td>\n",
       "      <td>4</td>\n",
       "      <td>0.829545</td>\n",
       "      <td>0.702128</td>\n",
       "      <td>0.896552</td>\n",
       "      <td>0.584393</td>\n",
       "    </tr>\n",
       "    <tr>\n",
       "      <th>7995</th>\n",
       "      <td>Assassin's Creed Origins</td>\n",
       "      <td>PlayStation</td>\n",
       "      <td>Action Adventure</td>\n",
       "      <td>Ubisoft</td>\n",
       "      <td>Ubisoft</td>\n",
       "      <td>1</td>\n",
       "      <td>0</td>\n",
       "      <td>2017</td>\n",
       "      <td>10</td>\n",
       "      <td>4</td>\n",
       "      <td>0.795455</td>\n",
       "      <td>0.744681</td>\n",
       "      <td>0.841270</td>\n",
       "      <td>0.641498</td>\n",
       "    </tr>\n",
       "  </tbody>\n",
       "</table>\n",
       "</div>"
      ],
      "text/plain": [
       "                     game_name     platform        main_genre develeoper  \\\n",
       "5769  Assassin's Creed Origins         Xbox  Action Adventure    Ubisoft   \n",
       "6447  Assassin's Creed Origins           PC  Action Adventure    Ubisoft   \n",
       "7995  Assassin's Creed Origins  PlayStation  Action Adventure    Ubisoft   \n",
       "\n",
       "     publisher  max_players  online_game  release_year  release_month  rating  \\\n",
       "5769   Ubisoft            1            0          2017             10       4   \n",
       "6447   Ubisoft            1            0          2017             10       4   \n",
       "7995   Ubisoft            1            0          2017             10       4   \n",
       "\n",
       "      meta_score  user_score  critic_positive_normelize  \\\n",
       "5769    0.840909    0.787234                   0.880952   \n",
       "6447    0.829545    0.702128                   0.896552   \n",
       "7995    0.795455    0.744681                   0.841270   \n",
       "\n",
       "      user_positive_normelize  \n",
       "5769                 0.743562  \n",
       "6447                 0.584393  \n",
       "7995                 0.641498  "
      ]
     },
     "execution_count": 62,
     "metadata": {},
     "output_type": "execute_result"
    }
   ],
   "source": [
    "df[df[\"game_name\"] == \"Assassin's Creed Origins\"]"
   ]
  },
  {
   "cell_type": "markdown",
   "id": "9d4ebf0e",
   "metadata": {},
   "source": [
    "## Handling duplicates"
   ]
  },
  {
   "cell_type": "code",
   "execution_count": 63,
   "id": "d085f0fd",
   "metadata": {},
   "outputs": [],
   "source": [
    "duplicates = df[df[\"game_name\"].duplicated(keep=False)].copy()\n",
    "duplicates_names = list(duplicates[\"game_name\"].unique())\n",
    "df.reset_index(drop=True, inplace=True)\n",
    "\n",
    "for duplicate_name in duplicates_names:\n",
    "    duplicates_game = df[df[\"game_name\"] == duplicate_name]\n",
    "    \n",
    "    # saving the mean valu of the duplicates\n",
    "    meta_score_mean = duplicates_game[\"meta_score\"].mean()\n",
    "    user_score_mean = duplicates_game[\"user_score\"].mean()\n",
    "    critic_mean = duplicates_game[\"critic_positive_normelize\"].mean()\n",
    "    user_mean = duplicates_game[\"user_positive_normelize\"].mean()\n",
    "    \n",
    "    row_index = df[df[\"game_name\"] == duplicate_name].index[0]\n",
    "    df.loc[row_index, \"meta_score\"] = meta_score_mean\n",
    "    df.loc[row_index, \"user_score\"] = user_score_mean\n",
    "    df.loc[row_index, \"critic_positive_normelize\"] = critic_mean\n",
    "    df.loc[row_index, \"user_positive_normelize\"] = user_mean\n",
    "    \n",
    "    # making a platform sting of all the duplicates platforms\n",
    "    platforms = set()\n",
    "    for val in duplicates_game[\"platform\"]:\n",
    "        platforms.add(val)\n",
    "    # the list will be sorted for future labeling\n",
    "    platforms = sorted(list(platforms))\n",
    "    df.loc[row_index, \"platform\"] = \", \".join(platforms)\n",
    "    \n",
    "    # saving the earliest date of the duplicates\n",
    "    year_month_zip = zip(duplicates_game[\"release_year\"], duplicates_game[\"release_month\"])\n",
    "    release_year = min(duplicates_game[\"release_year\"])\n",
    "    release_month = 12\n",
    "    for year, month in year_month_zip:\n",
    "        if(year == release_year and month < release_month):\n",
    "            release_month = month\n",
    "    df.loc[row_index, \"release_year\"] = release_year\n",
    "    df.loc[row_index, \"release_month\"] = release_month\n",
    "\n",
    "df.drop_duplicates(subset=\"game_name\", inplace=True)\n",
    "df.reset_index(drop=True, inplace=True)"
   ]
  },
  {
   "cell_type": "code",
   "execution_count": 64,
   "id": "079751bd",
   "metadata": {},
   "outputs": [
    {
     "data": {
      "text/plain": [
       "49"
      ]
     },
     "execution_count": 64,
     "metadata": {},
     "output_type": "execute_result"
    }
   ],
   "source": [
    "len(df[\"platform\"].unique())"
   ]
  },
  {
   "cell_type": "markdown",
   "id": "7644350c",
   "metadata": {},
   "source": [
    "## making 'exclusive_game' column:\n",
    "Content:\n",
    "\n",
    "1 - Games released for only one platform\n",
    "\n",
    "0 - Otherwise"
   ]
  },
  {
   "cell_type": "code",
   "execution_count": 65,
   "id": "2f9025b0",
   "metadata": {},
   "outputs": [],
   "source": [
    "exclusive_games_list = []\n",
    "for platforms in df[\"platform\"]:\n",
    "    platforms_list = platforms.split(\", \")\n",
    "    if(len(platforms_list) != 1 or 'Old Platform' in platforms_list):\n",
    "        exclusive_games_list.append(0)\n",
    "    else:\n",
    "        exclusive_games_list.append(1)\n",
    "df['exclusive_game'] = exclusive_games_list"
   ]
  },
  {
   "cell_type": "markdown",
   "id": "d64916ce",
   "metadata": {},
   "source": [
    "After Duplicates Handling"
   ]
  },
  {
   "cell_type": "code",
   "execution_count": 66,
   "id": "2a54855a",
   "metadata": {},
   "outputs": [
    {
     "data": {
      "text/html": [
       "<div>\n",
       "<style scoped>\n",
       "    .dataframe tbody tr th:only-of-type {\n",
       "        vertical-align: middle;\n",
       "    }\n",
       "\n",
       "    .dataframe tbody tr th {\n",
       "        vertical-align: top;\n",
       "    }\n",
       "\n",
       "    .dataframe thead th {\n",
       "        text-align: right;\n",
       "    }\n",
       "</style>\n",
       "<table border=\"1\" class=\"dataframe\">\n",
       "  <thead>\n",
       "    <tr style=\"text-align: right;\">\n",
       "      <th></th>\n",
       "      <th>game_name</th>\n",
       "      <th>platform</th>\n",
       "      <th>main_genre</th>\n",
       "      <th>develeoper</th>\n",
       "      <th>publisher</th>\n",
       "      <th>max_players</th>\n",
       "      <th>online_game</th>\n",
       "      <th>release_year</th>\n",
       "      <th>release_month</th>\n",
       "      <th>rating</th>\n",
       "      <th>meta_score</th>\n",
       "      <th>user_score</th>\n",
       "      <th>critic_positive_normelize</th>\n",
       "      <th>user_positive_normelize</th>\n",
       "      <th>exclusive_game</th>\n",
       "    </tr>\n",
       "  </thead>\n",
       "  <tbody>\n",
       "    <tr>\n",
       "      <th>4296</th>\n",
       "      <td>Assassin's Creed Origins</td>\n",
       "      <td>PC, PlayStation, Xbox</td>\n",
       "      <td>Action Adventure</td>\n",
       "      <td>Ubisoft</td>\n",
       "      <td>Ubisoft</td>\n",
       "      <td>1</td>\n",
       "      <td>0</td>\n",
       "      <td>2017</td>\n",
       "      <td>10</td>\n",
       "      <td>4</td>\n",
       "      <td>0.82197</td>\n",
       "      <td>0.744681</td>\n",
       "      <td>0.872925</td>\n",
       "      <td>0.656484</td>\n",
       "      <td>0</td>\n",
       "    </tr>\n",
       "  </tbody>\n",
       "</table>\n",
       "</div>"
      ],
      "text/plain": [
       "                     game_name               platform        main_genre  \\\n",
       "4296  Assassin's Creed Origins  PC, PlayStation, Xbox  Action Adventure   \n",
       "\n",
       "     develeoper publisher  max_players  online_game  release_year  \\\n",
       "4296    Ubisoft   Ubisoft            1            0          2017   \n",
       "\n",
       "      release_month  rating  meta_score  user_score  \\\n",
       "4296             10       4     0.82197    0.744681   \n",
       "\n",
       "      critic_positive_normelize  user_positive_normelize  exclusive_game  \n",
       "4296                   0.872925                 0.656484               0  "
      ]
     },
     "execution_count": 66,
     "metadata": {},
     "output_type": "execute_result"
    }
   ],
   "source": [
    "df[df[\"game_name\"] == \"Assassin's Creed Origins\"]"
   ]
  },
  {
   "cell_type": "markdown",
   "id": "4e0b7b72",
   "metadata": {},
   "source": [
    "---------------"
   ]
  },
  {
   "cell_type": "markdown",
   "id": "e45fd0f8",
   "metadata": {},
   "source": [
    "## Labeling the 'publisher', 'develeoper', 'main_genre' and 'platform' columns"
   ]
  },
  {
   "cell_type": "code",
   "execution_count": 67,
   "id": "6c62e690",
   "metadata": {},
   "outputs": [],
   "source": [
    "df[\"publisher_labeled\"] = LabelEncoder().fit_transform(df[\"publisher\"])\n",
    "df[\"develeoper_labeled\"] = LabelEncoder().fit_transform(df[\"develeoper\"])\n",
    "df[\"main_genres_labeled\"] = LabelEncoder().fit_transform(df[\"main_genre\"])\n",
    "df[\"platform_labeled\"] = LabelEncoder().fit_transform(df[\"platform\"])"
   ]
  },
  {
   "cell_type": "markdown",
   "id": "1195e479",
   "metadata": {},
   "source": [
    "# Final result"
   ]
  },
  {
   "cell_type": "code",
   "execution_count": 68,
   "id": "9ed808f8",
   "metadata": {},
   "outputs": [
    {
     "data": {
      "text/html": [
       "<div>\n",
       "<style scoped>\n",
       "    .dataframe tbody tr th:only-of-type {\n",
       "        vertical-align: middle;\n",
       "    }\n",
       "\n",
       "    .dataframe tbody tr th {\n",
       "        vertical-align: top;\n",
       "    }\n",
       "\n",
       "    .dataframe thead th {\n",
       "        text-align: right;\n",
       "    }\n",
       "</style>\n",
       "<table border=\"1\" class=\"dataframe\">\n",
       "  <thead>\n",
       "    <tr style=\"text-align: right;\">\n",
       "      <th></th>\n",
       "      <th>game_name</th>\n",
       "      <th>platform</th>\n",
       "      <th>main_genre</th>\n",
       "      <th>develeoper</th>\n",
       "      <th>publisher</th>\n",
       "      <th>max_players</th>\n",
       "      <th>online_game</th>\n",
       "      <th>release_year</th>\n",
       "      <th>release_month</th>\n",
       "      <th>rating</th>\n",
       "      <th>meta_score</th>\n",
       "      <th>user_score</th>\n",
       "      <th>critic_positive_normelize</th>\n",
       "      <th>user_positive_normelize</th>\n",
       "      <th>exclusive_game</th>\n",
       "      <th>publisher_labeled</th>\n",
       "      <th>develeoper_labeled</th>\n",
       "      <th>main_genres_labeled</th>\n",
       "      <th>platform_labeled</th>\n",
       "    </tr>\n",
       "  </thead>\n",
       "  <tbody>\n",
       "    <tr>\n",
       "      <th>0</th>\n",
       "      <td>Tharsis</td>\n",
       "      <td>Nintendo, PC, PlayStation</td>\n",
       "      <td>Miscellaneous</td>\n",
       "      <td>Choice Provisions</td>\n",
       "      <td>Choice Provisions</td>\n",
       "      <td>1</td>\n",
       "      <td>0</td>\n",
       "      <td>2016</td>\n",
       "      <td>1</td>\n",
       "      <td>4</td>\n",
       "      <td>0.571970</td>\n",
       "      <td>0.607182</td>\n",
       "      <td>0.230978</td>\n",
       "      <td>0.464190</td>\n",
       "      <td>0</td>\n",
       "      <td>266</td>\n",
       "      <td>551</td>\n",
       "      <td>6</td>\n",
       "      <td>9</td>\n",
       "    </tr>\n",
       "    <tr>\n",
       "      <th>1</th>\n",
       "      <td>WWI Tannenberg: Eastern Front</td>\n",
       "      <td>PlayStation</td>\n",
       "      <td>Action</td>\n",
       "      <td>M2H</td>\n",
       "      <td>Blackmill Games</td>\n",
       "      <td>40</td>\n",
       "      <td>1</td>\n",
       "      <td>2020</td>\n",
       "      <td>7</td>\n",
       "      <td>4</td>\n",
       "      <td>0.568182</td>\n",
       "      <td>0.851064</td>\n",
       "      <td>0.300000</td>\n",
       "      <td>0.102600</td>\n",
       "      <td>1</td>\n",
       "      <td>177</td>\n",
       "      <td>1684</td>\n",
       "      <td>0</td>\n",
       "      <td>42</td>\n",
       "    </tr>\n",
       "    <tr>\n",
       "      <th>2</th>\n",
       "      <td>Dungeons 2</td>\n",
       "      <td>PlayStation</td>\n",
       "      <td>General</td>\n",
       "      <td>Kalypso</td>\n",
       "      <td>Kalypso</td>\n",
       "      <td>4</td>\n",
       "      <td>1</td>\n",
       "      <td>2016</td>\n",
       "      <td>5</td>\n",
       "      <td>3</td>\n",
       "      <td>0.568182</td>\n",
       "      <td>0.670213</td>\n",
       "      <td>0.111111</td>\n",
       "      <td>0.267923</td>\n",
       "      <td>1</td>\n",
       "      <td>772</td>\n",
       "      <td>1525</td>\n",
       "      <td>5</td>\n",
       "      <td>42</td>\n",
       "    </tr>\n",
       "    <tr>\n",
       "      <th>3</th>\n",
       "      <td>WE ARE DOOMED</td>\n",
       "      <td>PlayStation</td>\n",
       "      <td>Action</td>\n",
       "      <td>Vertex Pop</td>\n",
       "      <td>Vertex Pop</td>\n",
       "      <td>1</td>\n",
       "      <td>0</td>\n",
       "      <td>2015</td>\n",
       "      <td>4</td>\n",
       "      <td>1</td>\n",
       "      <td>0.568182</td>\n",
       "      <td>0.595745</td>\n",
       "      <td>0.222222</td>\n",
       "      <td>0.185232</td>\n",
       "      <td>1</td>\n",
       "      <td>1552</td>\n",
       "      <td>3188</td>\n",
       "      <td>0</td>\n",
       "      <td>42</td>\n",
       "    </tr>\n",
       "    <tr>\n",
       "      <th>4</th>\n",
       "      <td>Sixty Second Shooter Prime</td>\n",
       "      <td>Xbox</td>\n",
       "      <td>Action</td>\n",
       "      <td>Happion Laboratories</td>\n",
       "      <td>Happion Laboratories</td>\n",
       "      <td>1</td>\n",
       "      <td>0</td>\n",
       "      <td>2014</td>\n",
       "      <td>6</td>\n",
       "      <td>1</td>\n",
       "      <td>0.568182</td>\n",
       "      <td>0.723404</td>\n",
       "      <td>0.000000</td>\n",
       "      <td>0.195710</td>\n",
       "      <td>1</td>\n",
       "      <td>649</td>\n",
       "      <td>1260</td>\n",
       "      <td>0</td>\n",
       "      <td>48</td>\n",
       "    </tr>\n",
       "  </tbody>\n",
       "</table>\n",
       "</div>"
      ],
      "text/plain": [
       "                       game_name                   platform     main_genre  \\\n",
       "0                        Tharsis  Nintendo, PC, PlayStation  Miscellaneous   \n",
       "1  WWI Tannenberg: Eastern Front                PlayStation         Action   \n",
       "2                     Dungeons 2                PlayStation        General   \n",
       "3                  WE ARE DOOMED                PlayStation         Action   \n",
       "4     Sixty Second Shooter Prime                       Xbox         Action   \n",
       "\n",
       "             develeoper             publisher  max_players  online_game  \\\n",
       "0     Choice Provisions     Choice Provisions            1            0   \n",
       "1                   M2H       Blackmill Games           40            1   \n",
       "2               Kalypso               Kalypso            4            1   \n",
       "3            Vertex Pop            Vertex Pop            1            0   \n",
       "4  Happion Laboratories  Happion Laboratories            1            0   \n",
       "\n",
       "   release_year  release_month  rating  meta_score  user_score  \\\n",
       "0          2016              1       4    0.571970    0.607182   \n",
       "1          2020              7       4    0.568182    0.851064   \n",
       "2          2016              5       3    0.568182    0.670213   \n",
       "3          2015              4       1    0.568182    0.595745   \n",
       "4          2014              6       1    0.568182    0.723404   \n",
       "\n",
       "   critic_positive_normelize  user_positive_normelize  exclusive_game  \\\n",
       "0                   0.230978                 0.464190               0   \n",
       "1                   0.300000                 0.102600               1   \n",
       "2                   0.111111                 0.267923               1   \n",
       "3                   0.222222                 0.185232               1   \n",
       "4                   0.000000                 0.195710               1   \n",
       "\n",
       "   publisher_labeled  develeoper_labeled  main_genres_labeled  \\\n",
       "0                266                 551                    6   \n",
       "1                177                1684                    0   \n",
       "2                772                1525                    5   \n",
       "3               1552                3188                    0   \n",
       "4                649                1260                    0   \n",
       "\n",
       "   platform_labeled  \n",
       "0                 9  \n",
       "1                42  \n",
       "2                42  \n",
       "3                42  \n",
       "4                48  "
      ]
     },
     "execution_count": 68,
     "metadata": {},
     "output_type": "execute_result"
    }
   ],
   "source": [
    "df.head()"
   ]
  },
  {
   "cell_type": "code",
   "execution_count": 69,
   "id": "83cbcc06",
   "metadata": {},
   "outputs": [
    {
     "name": "stdout",
     "output_type": "stream",
     "text": [
      "<class 'pandas.core.frame.DataFrame'>\n",
      "RangeIndex: 10569 entries, 0 to 10568\n",
      "Data columns (total 19 columns):\n",
      " #   Column                     Non-Null Count  Dtype   \n",
      "---  ------                     --------------  -----   \n",
      " 0   game_name                  10569 non-null  object  \n",
      " 1   platform                   10569 non-null  object  \n",
      " 2   main_genre                 10569 non-null  object  \n",
      " 3   develeoper                 10569 non-null  category\n",
      " 4   publisher                  10569 non-null  category\n",
      " 5   max_players                10569 non-null  int64   \n",
      " 6   online_game                10569 non-null  int64   \n",
      " 7   release_year               10569 non-null  int64   \n",
      " 8   release_month              10569 non-null  int64   \n",
      " 9   rating                     10569 non-null  int64   \n",
      " 10  meta_score                 10569 non-null  float64 \n",
      " 11  user_score                 10569 non-null  float64 \n",
      " 12  critic_positive_normelize  10569 non-null  float64 \n",
      " 13  user_positive_normelize    10569 non-null  float64 \n",
      " 14  exclusive_game             10569 non-null  int64   \n",
      " 15  publisher_labeled          10569 non-null  int32   \n",
      " 16  develeoper_labeled         10569 non-null  int32   \n",
      " 17  main_genres_labeled        10569 non-null  int32   \n",
      " 18  platform_labeled           10569 non-null  int32   \n",
      "dtypes: category(2), float64(4), int32(4), int64(6), object(3)\n",
      "memory usage: 1.5+ MB\n"
     ]
    }
   ],
   "source": [
    "df.info()"
   ]
  },
  {
   "cell_type": "markdown",
   "id": "a6de98a2",
   "metadata": {},
   "source": [
    "## Saving data in 'all_games.csv' file"
   ]
  },
  {
   "cell_type": "code",
   "execution_count": 70,
   "id": "24282c00",
   "metadata": {},
   "outputs": [],
   "source": [
    "# df.to_csv(f'games_data/all_games.csv')"
   ]
  },
  {
   "cell_type": "markdown",
   "id": "2ad9d070",
   "metadata": {},
   "source": [
    "## Saving data in 'all_games2.csv' file\n",
    "### Added after <font color='red'>Problem1:</font> Incomplete data"
   ]
  },
  {
   "cell_type": "code",
   "execution_count": 71,
   "id": "4b2f6613",
   "metadata": {},
   "outputs": [],
   "source": [
    "df.to_csv(f'games_data/all_games2.csv')"
   ]
  },
  {
   "cell_type": "markdown",
   "id": "5f71bcbe",
   "metadata": {},
   "source": [
    "-------------------"
   ]
  }
 ],
 "metadata": {
  "kernelspec": {
   "display_name": "Python 3 (ipykernel)",
   "language": "python",
   "name": "python3"
  },
  "language_info": {
   "codemirror_mode": {
    "name": "ipython",
    "version": 3
   },
   "file_extension": ".py",
   "mimetype": "text/x-python",
   "name": "python",
   "nbconvert_exporter": "python",
   "pygments_lexer": "ipython3",
   "version": "3.9.13"
  }
 },
 "nbformat": 4,
 "nbformat_minor": 5
}
