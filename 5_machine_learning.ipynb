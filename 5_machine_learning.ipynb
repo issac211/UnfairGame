{
 "cells": [
  {
   "cell_type": "code",
   "execution_count": 460,
   "id": "55c30cf4",
   "metadata": {},
   "outputs": [],
   "source": [
    "import pandas as pd\n",
    "import seaborn as sns\n",
    "from matplotlib import pyplot as plt\n",
    "import seaborn as sns\n",
    "import numpy as np\n",
    "from scipy.stats import chi2_contingency\n",
    "import math\n",
    "\n",
    "import sklearn\n",
    "from sklearn import metrics, preprocessing, model_selection, preprocessing, linear_model\n",
    "from sklearn.linear_model import LogisticRegression\n",
    "from sklearn.metrics import r2_score, f1_score, make_scorer\n",
    "from sklearn.preprocessing import StandardScaler, MinMaxScaler\n",
    "from warnings import simplefilter\n",
    "simplefilter(action='ignore', category=FutureWarning)\n",
    "from sklearn.model_selection import train_test_split, GridSearchCV, cross_val_score\n",
    "from sklearn.neighbors import KNeighborsClassifier\n",
    "from sklearn import tree\n",
    "from sklearn.ensemble import RandomForestClassifier"
   ]
  },
  {
   "cell_type": "markdown",
   "id": "7cc801cc",
   "metadata": {},
   "source": [
    "## Reading the new 'df_for_ml.csv' file"
   ]
  },
  {
   "cell_type": "code",
   "execution_count": 461,
   "id": "c19e2dd9",
   "metadata": {},
   "outputs": [],
   "source": [
    "df = pd.read_csv(\"games_data/df_for_ml.csv\")\n",
    "\n",
    "# Deletion of the index column - \"Unnamed: 0\"\n",
    "df.drop(\"Unnamed: 0\", axis=1, inplace=True)"
   ]
  },
  {
   "cell_type": "markdown",
   "id": "a15ed0ad",
   "metadata": {},
   "source": [
    "--------------\n",
    "Checking the data"
   ]
  },
  {
   "cell_type": "code",
   "execution_count": 462,
   "id": "25c105fb",
   "metadata": {},
   "outputs": [
    {
     "data": {
      "text/html": [
       "<div>\n",
       "<style scoped>\n",
       "    .dataframe tbody tr th:only-of-type {\n",
       "        vertical-align: middle;\n",
       "    }\n",
       "\n",
       "    .dataframe tbody tr th {\n",
       "        vertical-align: top;\n",
       "    }\n",
       "\n",
       "    .dataframe thead th {\n",
       "        text-align: right;\n",
       "    }\n",
       "</style>\n",
       "<table border=\"1\" class=\"dataframe\">\n",
       "  <thead>\n",
       "    <tr style=\"text-align: right;\">\n",
       "      <th></th>\n",
       "      <th>game_name</th>\n",
       "      <th>platform</th>\n",
       "      <th>genres</th>\n",
       "      <th>develeoper</th>\n",
       "      <th>publisher</th>\n",
       "      <th>max_players</th>\n",
       "      <th>online_game</th>\n",
       "      <th>release_year</th>\n",
       "      <th>release_month</th>\n",
       "      <th>rating</th>\n",
       "      <th>meta_score</th>\n",
       "      <th>user_score</th>\n",
       "      <th>exclusive_game</th>\n",
       "      <th>publisher_labeled</th>\n",
       "      <th>develeoper_labeled</th>\n",
       "      <th>genres_labeled</th>\n",
       "      <th>platform_labeled</th>\n",
       "      <th>successful</th>\n",
       "    </tr>\n",
       "  </thead>\n",
       "  <tbody>\n",
       "    <tr>\n",
       "      <th>0</th>\n",
       "      <td>The Legend of Zelda: Ocarina of Time</td>\n",
       "      <td>Nintendo</td>\n",
       "      <td>Action Adventure, Fantasy</td>\n",
       "      <td>Nintendo</td>\n",
       "      <td>Nintendo</td>\n",
       "      <td>1</td>\n",
       "      <td>0</td>\n",
       "      <td>1998</td>\n",
       "      <td>11</td>\n",
       "      <td>1</td>\n",
       "      <td>1.000000</td>\n",
       "      <td>0.936170</td>\n",
       "      <td>1</td>\n",
       "      <td>1140</td>\n",
       "      <td>2247</td>\n",
       "      <td>383</td>\n",
       "      <td>0</td>\n",
       "      <td>1</td>\n",
       "    </tr>\n",
       "    <tr>\n",
       "      <th>1</th>\n",
       "      <td>Tony Hawk's Pro Skater 2</td>\n",
       "      <td>Nintendo, Old Platform, PC, PlayStation</td>\n",
       "      <td>Alternative, Skateboarding, Sports</td>\n",
       "      <td>Neversoft Entertainment</td>\n",
       "      <td>Activision</td>\n",
       "      <td>2</td>\n",
       "      <td>0</td>\n",
       "      <td>2000</td>\n",
       "      <td>9</td>\n",
       "      <td>3</td>\n",
       "      <td>0.931818</td>\n",
       "      <td>0.765957</td>\n",
       "      <td>0</td>\n",
       "      <td>62</td>\n",
       "      <td>2213</td>\n",
       "      <td>1096</td>\n",
       "      <td>3</td>\n",
       "      <td>1</td>\n",
       "    </tr>\n",
       "    <tr>\n",
       "      <th>2</th>\n",
       "      <td>Grand Theft Auto IV</td>\n",
       "      <td>PC, PlayStation, Xbox</td>\n",
       "      <td>Action Adventure, Modern, Modern, Open-World</td>\n",
       "      <td>Rockstar North</td>\n",
       "      <td>Rockstar Games</td>\n",
       "      <td>1</td>\n",
       "      <td>0</td>\n",
       "      <td>2008</td>\n",
       "      <td>4</td>\n",
       "      <td>4</td>\n",
       "      <td>0.958333</td>\n",
       "      <td>0.780142</td>\n",
       "      <td>0</td>\n",
       "      <td>1417</td>\n",
       "      <td>2787</td>\n",
       "      <td>463</td>\n",
       "      <td>43</td>\n",
       "      <td>1</td>\n",
       "    </tr>\n",
       "    <tr>\n",
       "      <th>3</th>\n",
       "      <td>SoulCalibur</td>\n",
       "      <td>Old Platform, Xbox</td>\n",
       "      <td>3D, Action, Fighting</td>\n",
       "      <td>Namco</td>\n",
       "      <td>Namco</td>\n",
       "      <td>2</td>\n",
       "      <td>0</td>\n",
       "      <td>1999</td>\n",
       "      <td>9</td>\n",
       "      <td>3</td>\n",
       "      <td>0.880682</td>\n",
       "      <td>0.829787</td>\n",
       "      <td>0</td>\n",
       "      <td>1109</td>\n",
       "      <td>2176</td>\n",
       "      <td>231</td>\n",
       "      <td>38</td>\n",
       "      <td>1</td>\n",
       "    </tr>\n",
       "    <tr>\n",
       "      <th>4</th>\n",
       "      <td>Super Mario Galaxy</td>\n",
       "      <td>Wii</td>\n",
       "      <td>3D, 3D, Action, Platformer, Platformer</td>\n",
       "      <td>Nintendo</td>\n",
       "      <td>Nintendo</td>\n",
       "      <td>0</td>\n",
       "      <td>0</td>\n",
       "      <td>2007</td>\n",
       "      <td>11</td>\n",
       "      <td>1</td>\n",
       "      <td>0.977273</td>\n",
       "      <td>0.936170</td>\n",
       "      <td>1</td>\n",
       "      <td>1140</td>\n",
       "      <td>2247</td>\n",
       "      <td>144</td>\n",
       "      <td>51</td>\n",
       "      <td>1</td>\n",
       "    </tr>\n",
       "  </tbody>\n",
       "</table>\n",
       "</div>"
      ],
      "text/plain": [
       "                              game_name  \\\n",
       "0  The Legend of Zelda: Ocarina of Time   \n",
       "1              Tony Hawk's Pro Skater 2   \n",
       "2                   Grand Theft Auto IV   \n",
       "3                           SoulCalibur   \n",
       "4                    Super Mario Galaxy   \n",
       "\n",
       "                                  platform  \\\n",
       "0                                 Nintendo   \n",
       "1  Nintendo, Old Platform, PC, PlayStation   \n",
       "2                    PC, PlayStation, Xbox   \n",
       "3                       Old Platform, Xbox   \n",
       "4                                      Wii   \n",
       "\n",
       "                                         genres               develeoper  \\\n",
       "0                     Action Adventure, Fantasy                 Nintendo   \n",
       "1            Alternative, Skateboarding, Sports  Neversoft Entertainment   \n",
       "2  Action Adventure, Modern, Modern, Open-World           Rockstar North   \n",
       "3                          3D, Action, Fighting                    Namco   \n",
       "4        3D, 3D, Action, Platformer, Platformer                 Nintendo   \n",
       "\n",
       "        publisher  max_players  online_game  release_year  release_month  \\\n",
       "0        Nintendo            1            0          1998             11   \n",
       "1      Activision            2            0          2000              9   \n",
       "2  Rockstar Games            1            0          2008              4   \n",
       "3           Namco            2            0          1999              9   \n",
       "4        Nintendo            0            0          2007             11   \n",
       "\n",
       "   rating  meta_score  user_score  exclusive_game  publisher_labeled  \\\n",
       "0       1    1.000000    0.936170               1               1140   \n",
       "1       3    0.931818    0.765957               0                 62   \n",
       "2       4    0.958333    0.780142               0               1417   \n",
       "3       3    0.880682    0.829787               0               1109   \n",
       "4       1    0.977273    0.936170               1               1140   \n",
       "\n",
       "   develeoper_labeled  genres_labeled  platform_labeled  successful  \n",
       "0                2247             383                 0           1  \n",
       "1                2213            1096                 3           1  \n",
       "2                2787             463                43           1  \n",
       "3                2176             231                38           1  \n",
       "4                2247             144                51           1  "
      ]
     },
     "execution_count": 462,
     "metadata": {},
     "output_type": "execute_result"
    }
   ],
   "source": [
    "df.head()"
   ]
  },
  {
   "cell_type": "markdown",
   "id": "821a62d9",
   "metadata": {},
   "source": [
    "----------"
   ]
  },
  {
   "cell_type": "markdown",
   "id": "37093e53",
   "metadata": {},
   "source": [
    "A helper function:"
   ]
  },
  {
   "cell_type": "code",
   "execution_count": 463,
   "id": "d0eb6079",
   "metadata": {},
   "outputs": [],
   "source": [
    "def print_results( y_test, y_pred, round_number, only=\"\"):\n",
    "    \n",
    "    if(only == \"accuracy\"):\n",
    "        print(\"accuracy is:\", round(metrics.accuracy_score(y_test, y_pred), round_number))\n",
    "    elif(only == \"precision\"):\n",
    "        print(\"precision is:\", round(metrics.precision_score(y_test, y_pred), round_number))\n",
    "    elif(only == \"recall\"):\n",
    "        print(\"recall is:\", round(metrics.recall_score(y_test, y_pred), round_number))\n",
    "    elif(only == \"recall\"):\n",
    "        print(\"f1 is:\", round(f1_score(y_test, y_pred), round_number))\n",
    "    else:\n",
    "        print(\"accuracy is:\", round(metrics.accuracy_score(y_test, y_pred), round_number))\n",
    "        print(\"precision is:\", round(metrics.precision_score(y_test, y_pred), round_number))\n",
    "        print(\"recall is:\", round(metrics.recall_score(y_test, y_pred), round_number))\n",
    "        print(\"f1 is:\", round(f1_score(y_test, y_pred), round_number))\n",
    "    \n",
    "    print(\"\\nconfusion matrix:\")\n",
    "    mat = metrics.confusion_matrix(y_test, y_pred)\n",
    "    print(f\"TP={mat[1][1]} | FN={mat[1][0]}\")\n",
    "    print(f\"FP={mat[0][1]} | TN={mat[0][0]}\")\n",
    "    print(\"-------------\")"
   ]
  },
  {
   "cell_type": "code",
   "execution_count": 464,
   "id": "ed58da75",
   "metadata": {},
   "outputs": [],
   "source": [
    "def train_and_print(model, X_train, X_test, y_train, y_test, round_number, title, only=\"\", check_train=False):\n",
    "    model.fit(X_train, y_train)\n",
    "\n",
    "    y_pred = model.predict(X_test)\n",
    "    \n",
    "    print(f\"'{title.title()}': \\n\")\n",
    "    print(\"-------------\")\n",
    "    print(\"Test:\")\n",
    "    print_results( y_test, y_pred, round_number, only=only)\n",
    "       \n",
    "    if(check_train):\n",
    "        print(\"-------------\")\n",
    "        print(\"Train:\")\n",
    "        y_pred_train = model.predict(X_train)\n",
    "        print_results( y_train, y_pred_train, round_number, only=only)\n",
    "    # print(\"model: \", log_user.coef_[0])\n",
    "    return model, y_pred"
   ]
  },
  {
   "cell_type": "code",
   "execution_count": 465,
   "id": "2068cdb3",
   "metadata": {},
   "outputs": [
    {
     "data": {
      "text/plain": [
       "1    6184\n",
       "0    5511\n",
       "Name: successful, dtype: int64"
      ]
     },
     "execution_count": 465,
     "metadata": {},
     "output_type": "execute_result"
    }
   ],
   "source": [
    "df_for_ml[\"successful\"].value_counts()"
   ]
  },
  {
   "cell_type": "markdown",
   "id": "61b004c7",
   "metadata": {},
   "source": [
    "## Logistic regression:"
   ]
  },
  {
   "cell_type": "code",
   "execution_count": 466,
   "id": "9182e580",
   "metadata": {},
   "outputs": [],
   "source": [
    "df_for_ml = df.iloc[:, 5:].copy()\n",
    "df_for_ml[\"successful\"] = (df_for_ml[\"user_score\"] >= 0.73).astype(\"int64\")\n",
    "\n",
    "y = df_for_ml[\"successful\"]\n",
    "X = df_for_ml.copy()\n",
    "to_del = [\"user_score\", \"meta_score\", \"successful\"]\n",
    "X.drop(to_del, axis=1, inplace=True)\n",
    "\n",
    "X_train, X_test, y_train, y_test = train_test_split(X, y, test_size=0.3, random_state=45)"
   ]
  },
  {
   "cell_type": "code",
   "execution_count": 467,
   "id": "00137acf",
   "metadata": {
    "scrolled": false
   },
   "outputs": [
    {
     "name": "stdout",
     "output_type": "stream",
     "text": [
      "'Successful': \n",
      "\n",
      "-------------\n",
      "Test:\n",
      "accuracy is: 0.526\n",
      "precision is: 0.53\n",
      "recall is: 0.4\n",
      "f1 is: 0.456\n",
      "\n",
      "confusion matrix:\n",
      "TP=748 | FN=1122\n",
      "FP=663 | TN=1236\n",
      "-------------\n",
      "-------------\n",
      "Train:\n",
      "accuracy is: 0.531\n",
      "precision is: 0.523\n",
      "recall is: 0.416\n",
      "f1 is: 0.463\n",
      "\n",
      "confusion matrix:\n",
      "TP=1780 | FN=2503\n",
      "FP=1621 | TN=2890\n",
      "-------------\n"
     ]
    }
   ],
   "source": [
    "log = LogisticRegression(max_iter=500)\n",
    "\n",
    "log, y_pred = train_and_print(log, X_train, X_test, y_train, y_test, 3, \"successful\", check_train=True)"
   ]
  },
  {
   "cell_type": "markdown",
   "id": "b473e638",
   "metadata": {},
   "source": [
    "---------"
   ]
  },
  {
   "cell_type": "markdown",
   "id": "bf7746f8",
   "metadata": {},
   "source": [
    "<a id='Improving_Performance'></a>\n",
    "## <font color='red'>Problem2:</font> Improving Performance\n",
    "\n",
    "##  We will try to improve the score by returning to the data handling stage\n",
    "(We scraped all the possible data from the website already)\n",
    "\n",
    "## So we came back to the Data Handling stage and made some changes:\n",
    "### We have also found that we have some duplicates in the 'genres' culomn \n",
    "(see: [data_handling](./3_data_handling.ipynb) => <font color='red'>'Problem2: Improving Performance'</font>)\n",
    "\n",
    "We did the following:\n",
    "\n",
    "- Dropping the nan values from 'user_score' and Not filling the nan values with the mean values\n",
    "- Handling Duplicates in 'genres'\n",
    "\n",
    "### All changes were saved in a new file: 'handled_games2.csv'\n",
    "### and then in the EDA stage we saved them in file: 'df_for_ml2.csv'\n",
    "\n",
    "Now we will read it and perform the machine learning  again"
   ]
  },
  {
   "cell_type": "code",
   "execution_count": 468,
   "id": "ecb18edd",
   "metadata": {},
   "outputs": [],
   "source": [
    "df = pd.read_csv(\"games_data/df_for_ml2.csv\")\n",
    "\n",
    "# Deletion of the index column - \"Unnamed: 0\"\n",
    "df.drop(\"Unnamed: 0\", axis=1, inplace=True)"
   ]
  },
  {
   "cell_type": "markdown",
   "id": "ae3b81ca",
   "metadata": {},
   "source": [
    "--------------\n",
    "Checking the data"
   ]
  },
  {
   "cell_type": "code",
   "execution_count": 469,
   "id": "b5e2d7fe",
   "metadata": {},
   "outputs": [
    {
     "data": {
      "text/html": [
       "<div>\n",
       "<style scoped>\n",
       "    .dataframe tbody tr th:only-of-type {\n",
       "        vertical-align: middle;\n",
       "    }\n",
       "\n",
       "    .dataframe tbody tr th {\n",
       "        vertical-align: top;\n",
       "    }\n",
       "\n",
       "    .dataframe thead th {\n",
       "        text-align: right;\n",
       "    }\n",
       "</style>\n",
       "<table border=\"1\" class=\"dataframe\">\n",
       "  <thead>\n",
       "    <tr style=\"text-align: right;\">\n",
       "      <th></th>\n",
       "      <th>game_name</th>\n",
       "      <th>platform</th>\n",
       "      <th>genres</th>\n",
       "      <th>develeoper</th>\n",
       "      <th>publisher</th>\n",
       "      <th>max_players</th>\n",
       "      <th>online_game</th>\n",
       "      <th>release_year</th>\n",
       "      <th>release_month</th>\n",
       "      <th>rating</th>\n",
       "      <th>meta_score</th>\n",
       "      <th>user_score</th>\n",
       "      <th>exclusive_game</th>\n",
       "      <th>publisher_labeled</th>\n",
       "      <th>develeoper_labeled</th>\n",
       "      <th>genres_labeled</th>\n",
       "      <th>platform_labeled</th>\n",
       "      <th>successful</th>\n",
       "    </tr>\n",
       "  </thead>\n",
       "  <tbody>\n",
       "    <tr>\n",
       "      <th>0</th>\n",
       "      <td>The Legend of Zelda: Ocarina of Time</td>\n",
       "      <td>Nintendo</td>\n",
       "      <td>action adventure, fantasy</td>\n",
       "      <td>Nintendo</td>\n",
       "      <td>Nintendo</td>\n",
       "      <td>1</td>\n",
       "      <td>0</td>\n",
       "      <td>1998</td>\n",
       "      <td>11</td>\n",
       "      <td>1</td>\n",
       "      <td>1.000000</td>\n",
       "      <td>0.936170</td>\n",
       "      <td>1</td>\n",
       "      <td>1070</td>\n",
       "      <td>2078</td>\n",
       "      <td>262</td>\n",
       "      <td>0</td>\n",
       "      <td>1</td>\n",
       "    </tr>\n",
       "    <tr>\n",
       "      <th>1</th>\n",
       "      <td>Tony Hawk's Pro Skater 2</td>\n",
       "      <td>Nintendo, Old Platform, PC, PlayStation</td>\n",
       "      <td>alternative, skateboarding, sports</td>\n",
       "      <td>Neversoft Entertainment</td>\n",
       "      <td>Activision</td>\n",
       "      <td>2</td>\n",
       "      <td>0</td>\n",
       "      <td>2000</td>\n",
       "      <td>9</td>\n",
       "      <td>3</td>\n",
       "      <td>0.931818</td>\n",
       "      <td>0.765957</td>\n",
       "      <td>0</td>\n",
       "      <td>59</td>\n",
       "      <td>2045</td>\n",
       "      <td>805</td>\n",
       "      <td>3</td>\n",
       "      <td>1</td>\n",
       "    </tr>\n",
       "    <tr>\n",
       "      <th>2</th>\n",
       "      <td>Grand Theft Auto IV</td>\n",
       "      <td>PC, PlayStation, Xbox</td>\n",
       "      <td>action adventure, modern, open-world</td>\n",
       "      <td>Rockstar North</td>\n",
       "      <td>Rockstar Games</td>\n",
       "      <td>1</td>\n",
       "      <td>0</td>\n",
       "      <td>2008</td>\n",
       "      <td>4</td>\n",
       "      <td>4</td>\n",
       "      <td>0.958333</td>\n",
       "      <td>0.780142</td>\n",
       "      <td>0</td>\n",
       "      <td>1323</td>\n",
       "      <td>2572</td>\n",
       "      <td>323</td>\n",
       "      <td>43</td>\n",
       "      <td>1</td>\n",
       "    </tr>\n",
       "    <tr>\n",
       "      <th>3</th>\n",
       "      <td>SoulCalibur</td>\n",
       "      <td>Old Platform, Xbox</td>\n",
       "      <td>3d, action, fighting</td>\n",
       "      <td>Namco</td>\n",
       "      <td>Namco</td>\n",
       "      <td>2</td>\n",
       "      <td>0</td>\n",
       "      <td>1999</td>\n",
       "      <td>9</td>\n",
       "      <td>3</td>\n",
       "      <td>0.880682</td>\n",
       "      <td>0.829787</td>\n",
       "      <td>0</td>\n",
       "      <td>1042</td>\n",
       "      <td>2013</td>\n",
       "      <td>143</td>\n",
       "      <td>38</td>\n",
       "      <td>1</td>\n",
       "    </tr>\n",
       "    <tr>\n",
       "      <th>4</th>\n",
       "      <td>Super Mario Galaxy</td>\n",
       "      <td>Wii</td>\n",
       "      <td>3d, action, platformer</td>\n",
       "      <td>Nintendo</td>\n",
       "      <td>Nintendo</td>\n",
       "      <td>0</td>\n",
       "      <td>0</td>\n",
       "      <td>2007</td>\n",
       "      <td>11</td>\n",
       "      <td>1</td>\n",
       "      <td>0.977273</td>\n",
       "      <td>0.936170</td>\n",
       "      <td>1</td>\n",
       "      <td>1070</td>\n",
       "      <td>2078</td>\n",
       "      <td>154</td>\n",
       "      <td>51</td>\n",
       "      <td>1</td>\n",
       "    </tr>\n",
       "  </tbody>\n",
       "</table>\n",
       "</div>"
      ],
      "text/plain": [
       "                              game_name  \\\n",
       "0  The Legend of Zelda: Ocarina of Time   \n",
       "1              Tony Hawk's Pro Skater 2   \n",
       "2                   Grand Theft Auto IV   \n",
       "3                           SoulCalibur   \n",
       "4                    Super Mario Galaxy   \n",
       "\n",
       "                                  platform  \\\n",
       "0                                 Nintendo   \n",
       "1  Nintendo, Old Platform, PC, PlayStation   \n",
       "2                    PC, PlayStation, Xbox   \n",
       "3                       Old Platform, Xbox   \n",
       "4                                      Wii   \n",
       "\n",
       "                                 genres               develeoper  \\\n",
       "0             action adventure, fantasy                 Nintendo   \n",
       "1    alternative, skateboarding, sports  Neversoft Entertainment   \n",
       "2  action adventure, modern, open-world           Rockstar North   \n",
       "3                  3d, action, fighting                    Namco   \n",
       "4                3d, action, platformer                 Nintendo   \n",
       "\n",
       "        publisher  max_players  online_game  release_year  release_month  \\\n",
       "0        Nintendo            1            0          1998             11   \n",
       "1      Activision            2            0          2000              9   \n",
       "2  Rockstar Games            1            0          2008              4   \n",
       "3           Namco            2            0          1999              9   \n",
       "4        Nintendo            0            0          2007             11   \n",
       "\n",
       "   rating  meta_score  user_score  exclusive_game  publisher_labeled  \\\n",
       "0       1    1.000000    0.936170               1               1070   \n",
       "1       3    0.931818    0.765957               0                 59   \n",
       "2       4    0.958333    0.780142               0               1323   \n",
       "3       3    0.880682    0.829787               0               1042   \n",
       "4       1    0.977273    0.936170               1               1070   \n",
       "\n",
       "   develeoper_labeled  genres_labeled  platform_labeled  successful  \n",
       "0                2078             262                 0           1  \n",
       "1                2045             805                 3           1  \n",
       "2                2572             323                43           1  \n",
       "3                2013             143                38           1  \n",
       "4                2078             154                51           1  "
      ]
     },
     "execution_count": 469,
     "metadata": {},
     "output_type": "execute_result"
    }
   ],
   "source": [
    "df.head()"
   ]
  },
  {
   "cell_type": "markdown",
   "id": "463f08d9",
   "metadata": {},
   "source": [
    "# Our main model:"
   ]
  },
  {
   "cell_type": "code",
   "execution_count": 470,
   "id": "452a9839",
   "metadata": {},
   "outputs": [],
   "source": [
    "df_for_ml = df.iloc[:, 5:].copy()\n",
    "X = df_for_ml.copy()\n",
    "y = df_for_ml[\"successful\"]\n",
    "to_del = [\"user_score\", \"meta_score\", \"successful\"]\n",
    "X.drop(to_del, axis=1, inplace=True)\n",
    "\n",
    "X_train, X_test, y_train, y_test = train_test_split(X, y, test_size=0.3, random_state=45)"
   ]
  },
  {
   "cell_type": "markdown",
   "id": "fda3134b",
   "metadata": {},
   "source": [
    "## Logistic regression:"
   ]
  },
  {
   "cell_type": "code",
   "execution_count": 471,
   "id": "aba66673",
   "metadata": {
    "scrolled": false
   },
   "outputs": [
    {
     "name": "stdout",
     "output_type": "stream",
     "text": [
      "'Successful': \n",
      "\n",
      "-------------\n",
      "Test:\n",
      "accuracy is: 0.535\n",
      "precision is: 0.54\n",
      "recall is: 0.75\n",
      "f1 is: 0.628\n",
      "\n",
      "confusion matrix:\n",
      "TP=1379 | FN=459\n",
      "FP=1173 | TN=498\n",
      "-------------\n",
      "-------------\n",
      "Train:\n",
      "accuracy is: 0.535\n",
      "precision is: 0.545\n",
      "recall is: 0.741\n",
      "f1 is: 0.628\n",
      "\n",
      "confusion matrix:\n",
      "TP=3220 | FN=1126\n",
      "FP=2684 | TN=1156\n",
      "-------------\n"
     ]
    }
   ],
   "source": [
    "log = LogisticRegression(max_iter=500)\n",
    "\n",
    "log, y_pred = train_and_print(log, X_train, X_test, y_train, y_test, 3, \"successful\", check_train=True)"
   ]
  },
  {
   "cell_type": "markdown",
   "id": "d0fd3747",
   "metadata": {},
   "source": [
    "### The results has improved"
   ]
  },
  {
   "cell_type": "code",
   "execution_count": 472,
   "id": "d39c0c6e",
   "metadata": {},
   "outputs": [
    {
     "name": "stdout",
     "output_type": "stream",
     "text": [
      "Single test1:\n",
      "\n",
      "real value:  0\n",
      "predict value:  0\n",
      "--------------\n",
      "\n",
      "Single test2:\n",
      "\n",
      "real value:  1\n",
      "predict value:  1\n"
     ]
    }
   ],
   "source": [
    "print(\"Single test1:\\n\")\n",
    "print(\"real value: \",y_test.iloc[0])\n",
    "\n",
    "tst = X_test.iloc[0:1]\n",
    "print(\"predict value: \", log.predict(tst)[0])\n",
    "print(\"--------------\\n\")\n",
    "\n",
    "print(\"Single test2:\\n\")\n",
    "print(\"real value: \", y_test.iloc[10])\n",
    "\n",
    "tst2 = X_test.iloc[10:11]\n",
    "print(\"predict value: \", log.predict(tst2)[0])"
   ]
  },
  {
   "cell_type": "markdown",
   "id": "d7afb488",
   "metadata": {},
   "source": [
    "-------------------"
   ]
  },
  {
   "cell_type": "markdown",
   "id": "ed5bf632",
   "metadata": {},
   "source": [
    "# We will try other models that seem suitable for solving the problem"
   ]
  },
  {
   "cell_type": "markdown",
   "id": "9b62edae",
   "metadata": {},
   "source": [
    "## K Nearest Neighbors (k-NN):"
   ]
  },
  {
   "cell_type": "code",
   "execution_count": 399,
   "id": "d2e9134e",
   "metadata": {},
   "outputs": [
    {
     "data": {
      "text/plain": [
       "90"
      ]
     },
     "execution_count": 399,
     "metadata": {},
     "output_type": "execute_result"
    }
   ],
   "source": [
    "to_num = int(math.sqrt(len(y_train)))\n",
    "to_num"
   ]
  },
  {
   "cell_type": "code",
   "execution_count": 400,
   "id": "57d203ee",
   "metadata": {},
   "outputs": [
    {
     "name": "stdout",
     "output_type": "stream",
     "text": [
      "best parameter set is: {'n_neighbors': 73}  and its score was 0.6146720619480276\n"
     ]
    }
   ],
   "source": [
    "parameters = {'n_neighbors':range(3,to_num,2) }\n",
    "knn = KNeighborsClassifier()\n",
    "clf = GridSearchCV(knn, parameters, scoring=make_scorer(metrics.f1_score, greater_is_better=True))\n",
    "clf.fit(X_train, y_train)\n",
    "\n",
    "print(\"best parameter set is:\",clf.best_params_,\" and its score was\",clf.best_score_)"
   ]
  },
  {
   "cell_type": "code",
   "execution_count": 401,
   "id": "fb235228",
   "metadata": {},
   "outputs": [
    {
     "name": "stdout",
     "output_type": "stream",
     "text": [
      "Test KNN:\n",
      "accuracy is: 0.537\n",
      "precision is: 0.546\n",
      "recall is: 0.685\n",
      "f1 is: 0.608\n",
      "\n",
      "confusion matrix:\n",
      "TP=1259 | FN=579\n",
      "FP=1046 | TN=625\n",
      "-------------\n",
      "Train KNN:\n",
      "accuracy is: 0.578\n",
      "precision is: 0.585\n",
      "recall is: 0.707\n",
      "f1 is: 0.64\n",
      "\n",
      "confusion matrix:\n",
      "TP=3073 | FN=1273\n",
      "FP=2181 | TN=1659\n",
      "-------------\n"
     ]
    }
   ],
   "source": [
    "y_pred = clf.predict(X_test)\n",
    "print(\"Test KNN:\")\n",
    "print_results( y_test, y_pred, 3)\n",
    "y_pred_train = clf.predict(X_train)\n",
    "print(\"Train KNN:\")\n",
    "print_results( y_train, y_pred_train, 3)"
   ]
  },
  {
   "cell_type": "markdown",
   "id": "6c2c0c93",
   "metadata": {},
   "source": [
    "### The results has improved in accuracy and  precision\n",
    "\n",
    "### But the recall and f1 dropped"
   ]
  },
  {
   "cell_type": "markdown",
   "id": "fa19092c",
   "metadata": {},
   "source": [
    "--------------"
   ]
  },
  {
   "cell_type": "markdown",
   "id": "6e5a25f7",
   "metadata": {},
   "source": [
    "## Decision Trees"
   ]
  },
  {
   "cell_type": "code",
   "execution_count": 411,
   "id": "46f0a5d4",
   "metadata": {},
   "outputs": [
    {
     "name": "stdout",
     "output_type": "stream",
     "text": [
      "best parameter set is: {'max_depth': 2, 'min_samples_split': 2}  and its score was 0.6086003387774921\n"
     ]
    }
   ],
   "source": [
    "parameters = {'max_depth':range(2, 100, 2), \"min_samples_split\":range(2, 50, 2) }\n",
    "dt = tree.DecisionTreeClassifier()\n",
    "\n",
    "clf = GridSearchCV(dt, parameters,scoring=make_scorer(metrics.accuracy_score, greater_is_better=True))\n",
    "clf.fit(X_train, y_train)\n",
    "print(\"best parameter set is:\",clf.best_params_,\" and its score was\",clf.best_score_)"
   ]
  },
  {
   "cell_type": "code",
   "execution_count": 412,
   "id": "2d3f1a2b",
   "metadata": {},
   "outputs": [
    {
     "name": "stdout",
     "output_type": "stream",
     "text": [
      "Test DecisionTree:\n",
      "\n",
      "accuracy is: 0.625\n",
      "precision is: 0.632\n",
      "recall is: 0.68\n",
      "f1 is: 0.655\n",
      "\n",
      "confusion matrix:\n",
      "TP=1249 | FN=589\n",
      "FP=726 | TN=945\n",
      "-------------\n",
      "Train DecisionTree:\n",
      "\n",
      "accuracy is: 0.615\n",
      "precision is: 0.627\n",
      "recall is: 0.678\n",
      "f1 is: 0.651\n",
      "\n",
      "confusion matrix:\n",
      "TP=2947 | FN=1399\n",
      "FP=1756 | TN=2084\n",
      "-------------\n"
     ]
    }
   ],
   "source": [
    "y_pred_train = clf.predict(X_train)\n",
    "y_pred = clf.predict(X_test)\n",
    "print(\"Test DecisionTree:\\n\")\n",
    "print_results( y_test, y_pred, 3)\n",
    "print(\"Train DecisionTree:\\n\")\n",
    "print_results( y_train, y_pred_train, 3)"
   ]
  },
  {
   "cell_type": "markdown",
   "id": "0e1416bf",
   "metadata": {},
   "source": [
    "### The results has improved in f1, accuracy and  precision\n",
    "### But the recall dropped"
   ]
  },
  {
   "cell_type": "markdown",
   "id": "b6115486",
   "metadata": {},
   "source": [
    "## conclusion:\n",
    "\n",
    "After many more attempts, we were unable to significantly improve the prediction results\n",
    "\n",
    "From this we concluded that with the material we learned in the course, we have a limited ability to predict whether a specific game will be successful or not"
   ]
  }
 ],
 "metadata": {
  "kernelspec": {
   "display_name": "Python 3 (ipykernel)",
   "language": "python",
   "name": "python3"
  },
  "language_info": {
   "codemirror_mode": {
    "name": "ipython",
    "version": 3
   },
   "file_extension": ".py",
   "mimetype": "text/x-python",
   "name": "python",
   "nbconvert_exporter": "python",
   "pygments_lexer": "ipython3",
   "version": "3.9.13"
  }
 },
 "nbformat": 4,
 "nbformat_minor": 5
}
