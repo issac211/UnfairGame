{
 "cells": [
  {
   "cell_type": "code",
   "execution_count": 1,
   "id": "00d1a4c2",
   "metadata": {},
   "outputs": [],
   "source": [
    "from bs4 import BeautifulSoup\n",
    "import requests\n",
    "import time\n",
    "import pandas as pd\n",
    "\n",
    "# Solution for getting 403 forbidden response - send a fake user-agent with every request\n",
    "HEADERS = {'User-Agent': 'Mozilla/5.0 (iPad; CPU OS 12_2 like Mac OS X) AppleWebKit/605.1.15 (KHTML, like Gecko) Mobile/15E148'}"
   ]
  },
  {
   "cell_type": "code",
   "execution_count": 2,
   "id": "f306a302",
   "metadata": {},
   "outputs": [],
   "source": [
    "# Our base url\n",
    "\n",
    "URL=\"https://www.metacritic.com/browse/games/score/metascore/all/all/filtered\""
   ]
  },
  {
   "cell_type": "code",
   "execution_count": 3,
   "id": "5e87dd6d",
   "metadata": {},
   "outputs": [],
   "source": [
    "# Scraping all href links in 1 page"
   ]
  },
  {
   "cell_type": "code",
   "execution_count": 4,
   "id": "fd3aad92",
   "metadata": {},
   "outputs": [],
   "source": [
    "def get_hrefs_list(url):\n",
    "\n",
    "    result = requests.get(url, headers=HEADERS)\n",
    "    soup = BeautifulSoup(result.content, \"html.parser\")\n",
    "\n",
    "    list_wrapper = soup.find_all(\"div\", class_=\"browse_list_wrapper\")\n",
    "\n",
    "    links_list = []\n",
    "    for wrapper in list_wrapper:\n",
    "        for link in wrapper.find_all(\"a\", href = True, class_=\"title\"):\n",
    "            links_list.append(link['href'])\n",
    "    \n",
    "    return links_list"
   ]
  },
  {
   "cell_type": "code",
   "execution_count": 5,
   "id": "5638d83d",
   "metadata": {},
   "outputs": [],
   "source": [
    "# This function is for getting an href links from a given pages range\n",
    "# Every url for each page is in the same structure: 'BASE URL?#num of page'"
   ]
  },
  {
   "cell_type": "code",
   "execution_count": 6,
   "id": "906d3469",
   "metadata": {},
   "outputs": [],
   "source": [
    "def get_hrefs_list_fromPage_toPage(url, begin = 0, end = 0):\n",
    "    href_list = []\n",
    "    for page in range(begin, end + 1):\n",
    "        if(page != 0):\n",
    "            new_url = f\"{url}?page={page}\"\n",
    "        else:\n",
    "            new_url = url\n",
    "            \n",
    "        href_list.extend(get_hrefs_list(new_url))\n",
    "    return href_list"
   ]
  },
  {
   "cell_type": "code",
   "execution_count": 7,
   "id": "da9b9372",
   "metadata": {},
   "outputs": [],
   "source": [
    "# Start cralwer for the 4000 best games all time\n",
    "# Converting the list to dataframe and saving in a csv file"
   ]
  },
  {
   "cell_type": "code",
   "execution_count": 8,
   "id": "fb379fc3",
   "metadata": {},
   "outputs": [],
   "source": [
    "best_games_href_list = get_hrefs_list_fromPage_toPage(URL, 0, 39)"
   ]
  },
  {
   "cell_type": "code",
   "execution_count": 9,
   "id": "a5ff9377",
   "metadata": {},
   "outputs": [],
   "source": [
    "links_dict = {'links': best_games_href_list}\n",
    "links_df = pd.DataFrame(data=links_dict)\n",
    "links_df.to_csv('hrefPages_0_39/good_games.csv')"
   ]
  },
  {
   "cell_type": "code",
   "execution_count": 10,
   "id": "735003fd",
   "metadata": {},
   "outputs": [],
   "source": [
    "# Start cralwer for the 4000 worst games all time\n",
    "# Converting the list to dataframe and saving in a csv file"
   ]
  },
  {
   "cell_type": "code",
   "execution_count": null,
   "id": "9fa8e17a",
   "metadata": {},
   "outputs": [],
   "source": [
    "worst_games_href_list = get_hrefs_list_fromPage_toPage(URL, 159, 199)"
   ]
  },
  {
   "cell_type": "code",
   "execution_count": null,
   "id": "ccc54fe5",
   "metadata": {},
   "outputs": [],
   "source": [
    "# For balance we had to remove 45 first games(from the worst games section) in order to get 4000 games exactly"
   ]
  },
  {
   "cell_type": "code",
   "execution_count": null,
   "id": "f018c0b4",
   "metadata": {},
   "outputs": [],
   "source": [
    "worst_games_href_list = worst_games_href_list[45:]\n",
    "len(worst_games_href_list)"
   ]
  },
  {
   "cell_type": "code",
   "execution_count": null,
   "id": "6865a90c",
   "metadata": {},
   "outputs": [],
   "source": [
    "links_dict = {'links': worst_games_href_list}\n",
    "links_df = pd.DataFrame(data=links_dict)\n",
    "links_df.to_csv('hrefPages_159_199/bad_games.csv')"
   ]
  }
 ],
 "metadata": {
  "kernelspec": {
   "display_name": "Python 3 (ipykernel)",
   "language": "python",
   "name": "python3"
  },
  "language_info": {
   "codemirror_mode": {
    "name": "ipython",
    "version": 3
   },
   "file_extension": ".py",
   "mimetype": "text/x-python",
   "name": "python",
   "nbconvert_exporter": "python",
   "pygments_lexer": "ipython3",
   "version": "3.9.13"
  }
 },
 "nbformat": 4,
 "nbformat_minor": 5
}
